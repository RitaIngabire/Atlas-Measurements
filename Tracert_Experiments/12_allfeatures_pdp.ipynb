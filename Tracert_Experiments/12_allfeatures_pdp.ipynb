{
 "cells": [
  {
   "cell_type": "code",
   "execution_count": null,
   "metadata": {},
   "outputs": [],
   "source": [
    "#https://www.kaggle.com/code/dansbecker/partial-plots\n",
    "import os\n",
    "import pandas as pd\n",
    "import shap\n",
    "import numpy as np\n",
    "from sklearn.ensemble import RandomForestRegressor\n",
    "from sklearn.inspection import PartialDependenceDisplay\n",
    "import matplotlib.pyplot as plt\n",
    "\n",
    "# Create a folder for explanations\n",
    "os.makedirs(\"pdp_plots\", exist_ok=True)"
   ]
  },
  {
   "cell_type": "code",
   "execution_count": null,
   "metadata": {},
   "outputs": [],
   "source": [
    "from sklearn.inspection import partial_dependence\n",
    "\n",
    "folder_path = \"train_test_pickles\"\n",
    "\n",
    "# Load the first training pickle\n",
    "train_pickle_path = os.path.join(folder_path, \"train_df_0.pickle\")\n",
    "train_df = pd.read_pickle(train_pickle_path)\n",
    "\n",
    "# Load the first test pickle\n",
    "test_pickle_path = os.path.join(folder_path, \"test_df_0.pickle\")\n",
    "test_df = pd.read_pickle(test_pickle_path)\n",
    "\n",
    "# Define columns to drop\n",
    "cols_dropped = ['date', 'last_rtt', 'prb_id', 'dst_id', 'normalizzed_rtt', 'src_names', 'distance', 'Latitude_source', 'Longitude_source', 'Latitude_destination', 'Longitude_destination', 'Public_destination', 'Public_source', 'norm_storedtimestamp']\n",
    "\n",
    "# Create feature matrix (X) and target variable (y) for training and testing sets\n",
    "X_train = train_df.drop(columns=cols_dropped, axis=1)\n",
    "y_train = train_df['normalizzed_rtt']\n",
    "\n",
    "X_test = test_df.drop(columns=cols_dropped, axis=1)\n",
    "y_test = test_df['normalizzed_rtt']\n",
    "\n",
    "# Initialize the RandomForestRegressor\n",
    "rand_forest = RandomForestRegressor(\n",
    "    n_estimators=10,\n",
    "    criterion='squared_error',\n",
    "    random_state=42,\n",
    ")\n",
    "\n",
    "# Train the random forest on the training data\n",
    "rand_forest.fit(X_train, y_train)\n",
    "\n",
    "# Calculate SHAP values using the first 10,000 samples from the training data\n",
    "explainer_shap = shap.Explainer(rand_forest)\n",
    "shap_values = explainer_shap(X_train[:10000])\n",
    "\n",
    "# Select the top 6 features based on average absolute SHAP values\n",
    "top_features_idx = np.abs(shap_values.values).mean(axis=0).argsort()[-10:]\n",
    "\n",
    "# Create and save partial dependence plots for the top 6 features\n",
    "for feature_idx in top_features_idx:\n",
    "    # Use PartialDependenceDisplay\n",
    "    pd_display = PartialDependenceDisplay.from_estimator(\n",
    "        estimator=rand_forest,\n",
    "        X=X_train,\n",
    "        features=[feature_idx]\n",
    "    )\n",
    "\n",
    "    # Plot the partial dependence plot\n",
    "    # Save the plot in the 'pdp_plots' folder\n",
    "    plt.savefig(f\"pdp_plots/pdp_plot_feature_{feature_idx}.png\")\n",
    "    plt.clf()  # Clear the plot for the next iteration ,. how do i plot scatter plots instead of line plots "
   ]
  }
 ],
 "metadata": {
  "kernelspec": {
   "display_name": "Python 3",
   "language": "python",
   "name": "python3"
  },
  "language_info": {
   "codemirror_mode": {
    "name": "ipython",
    "version": 3
   },
   "file_extension": ".py",
   "mimetype": "text/x-python",
   "name": "python",
   "nbconvert_exporter": "python",
   "pygments_lexer": "ipython3",
   "version": "3.10.11"
  }
 },
 "nbformat": 4,
 "nbformat_minor": 2
}
