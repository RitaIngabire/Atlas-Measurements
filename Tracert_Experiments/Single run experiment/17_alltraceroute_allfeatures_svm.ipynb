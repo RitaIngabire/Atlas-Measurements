{
 "cells": [
  {
   "cell_type": "code",
   "execution_count": 1,
   "metadata": {},
   "outputs": [],
   "source": [
    "import pandas as pd\n",
    "import numpy  as np\n",
    "import json\n",
    "import matplotlib.pyplot as plt\n",
    "import seaborn as sns\n",
    "import sklearn as sk\n",
    "import warnings\n",
    "import platform\n",
    "import sys\n",
    "warnings.filterwarnings(\"ignore\",category=DeprecationWarning)\n",
    "warnings.simplefilter(\"ignore\")\n",
    "\n",
    "# Making the plots standard \n",
    "%matplotlib inline\n",
    "plt.rcParams[\"figure.figsize\"] = [16, 5]"
   ]
  },
  {
   "cell_type": "code",
   "execution_count": 2,
   "metadata": {},
   "outputs": [],
   "source": [
    "#import the training data and test data pickles \n",
    "train_df = pd.read_pickle(\"train_df.pickle\")\n",
    "test_df  = pd.read_pickle(\"test_df.pickle\")\n",
    "\n",
    "#get the training std \n",
    "trainrtt_mean = train_df['last_rtt'].mean()\n",
    "trainrtt_std = train_df['last_rtt'].std()"
   ]
  },
  {
   "cell_type": "code",
   "execution_count": 3,
   "metadata": {},
   "outputs": [],
   "source": [
    "# Choose your features and target\n",
    "cols_dropped = ['date','last_rtt','normalizzed_rtt','src_names']\n",
    "\n",
    "X_train = train_df.drop(columns=cols_dropped, axis=1)\n",
    "y_train = train_df['normalizzed_rtt']\n",
    "\n",
    "X_test = test_df.drop(columns=cols_dropped, axis=1)\n",
    "y_test = test_df['normalizzed_rtt'] \n"
   ]
  },
  {
   "cell_type": "code",
   "execution_count": 4,
   "metadata": {},
   "outputs": [
    {
     "name": "stdout",
     "output_type": "stream",
     "text": [
      "RMSE for SVR:  148.92274154439298 Denormalised rmse:  1391.2439442648054\n"
     ]
    }
   ],
   "source": [
    "#SUPPORT VECTOR REGRESSION\n",
    "from sklearn.svm import SVR\n",
    "from sklearn.metrics import mean_squared_error\n",
    "\n",
    "# Create a linear SVR\n",
    "regressor = SVR(kernel='linear')\n",
    "\n",
    "# Train a  regressor\n",
    "regressor.fit(X_train[:5000], y_train[:5000])\n",
    "\n",
    "# Make predictions on the test set using the trained regressor\n",
    "y_pred = regressor.predict(X_test[:5000])\n",
    "\n",
    "# Calculate the loss function\n",
    "svr_rmse = np.sqrt(mean_squared_error(y_test[:5000], y_pred))\n",
    "svr_drmse = svr_rmse * trainrtt_std\n",
    "print(f'RMSE for SVR: ', svr_rmse, 'Denormalised rmse: ', svr_drmse)"
   ]
  }
 ],
 "metadata": {
  "kernelspec": {
   "display_name": "Python 3",
   "language": "python",
   "name": "python3"
  },
  "language_info": {
   "codemirror_mode": {
    "name": "ipython",
    "version": 3
   },
   "file_extension": ".py",
   "mimetype": "text/x-python",
   "name": "python",
   "nbconvert_exporter": "python",
   "pygments_lexer": "ipython3",
   "version": "3.10.11"
  }
 },
 "nbformat": 4,
 "nbformat_minor": 2
}
