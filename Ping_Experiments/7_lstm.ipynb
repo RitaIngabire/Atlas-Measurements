{
 "cells": [
  {
   "cell_type": "code",
   "execution_count": 1,
   "metadata": {},
   "outputs": [],
   "source": [
    "# Generic libraries\n",
    "# Reference material - https://machinelearningmastery.com/how-to-develop-lstm-models-for-time-series-forecasting/\n",
    "import pandas as pd\n",
    "import numpy  as np\n",
    "\n",
    "import tensorflow as tf\n",
    "from tensorflow.keras.models import Sequential\n",
    "from tensorflow.keras.layers import Dense , LSTM , Flatten\n",
    "from sklearn.metrics import mean_squared_error\n",
    "\n",
    "# Plotting\n",
    "import matplotlib.pyplot as plt\n",
    "\n",
    "import warnings\n",
    "warnings.filterwarnings(\"ignore\",category=DeprecationWarning)\n",
    "\n",
    "# Making the plots standard \n",
    "%matplotlib inline\n",
    "plt.rcParams[\"figure.figsize\"] = [16, 5]"
   ]
  },
  {
   "cell_type": "code",
   "execution_count": 2,
   "metadata": {},
   "outputs": [
    {
     "name": "stdout",
     "output_type": "stream",
     "text": [
      "2.12.0\n"
     ]
    }
   ],
   "source": [
    "import tensorflow as tf\n",
    "print(tf.__version__)"
   ]
  },
  {
   "cell_type": "code",
   "execution_count": 3,
   "metadata": {},
   "outputs": [
    {
     "data": {
      "text/html": [
       "<div>\n",
       "<style scoped>\n",
       "    .dataframe tbody tr th:only-of-type {\n",
       "        vertical-align: middle;\n",
       "    }\n",
       "\n",
       "    .dataframe tbody tr th {\n",
       "        vertical-align: top;\n",
       "    }\n",
       "\n",
       "    .dataframe thead th {\n",
       "        text-align: right;\n",
       "    }\n",
       "</style>\n",
       "<table border=\"1\" class=\"dataframe\">\n",
       "  <thead>\n",
       "    <tr style=\"text-align: right;\">\n",
       "      <th></th>\n",
       "      <th></th>\n",
       "      <th>normalized_datetime</th>\n",
       "      <th>normal_prbid</th>\n",
       "      <th>normalized_avg</th>\n",
       "      <th>normalized_distance</th>\n",
       "      <th>classes</th>\n",
       "    </tr>\n",
       "    <tr>\n",
       "      <th>dst_addr</th>\n",
       "      <th></th>\n",
       "      <th></th>\n",
       "      <th></th>\n",
       "      <th></th>\n",
       "      <th></th>\n",
       "      <th></th>\n",
       "    </tr>\n",
       "  </thead>\n",
       "  <tbody>\n",
       "    <tr>\n",
       "      <th rowspan=\"11\" valign=\"top\">52.46.200.93</th>\n",
       "      <th>22540</th>\n",
       "      <td>0.000106</td>\n",
       "      <td>5</td>\n",
       "      <td>-0.535096</td>\n",
       "      <td>0.202324</td>\n",
       "      <td>0</td>\n",
       "    </tr>\n",
       "    <tr>\n",
       "      <th>22541</th>\n",
       "      <td>0.000000</td>\n",
       "      <td>10</td>\n",
       "      <td>2.299934</td>\n",
       "      <td>1.000000</td>\n",
       "      <td>2</td>\n",
       "    </tr>\n",
       "    <tr>\n",
       "      <th>22542</th>\n",
       "      <td>0.000106</td>\n",
       "      <td>11</td>\n",
       "      <td>1.660160</td>\n",
       "      <td>0.745771</td>\n",
       "      <td>2</td>\n",
       "    </tr>\n",
       "    <tr>\n",
       "      <th>22543</th>\n",
       "      <td>0.000438</td>\n",
       "      <td>12</td>\n",
       "      <td>0.413936</td>\n",
       "      <td>0.553591</td>\n",
       "      <td>1</td>\n",
       "    </tr>\n",
       "    <tr>\n",
       "      <th>22544</th>\n",
       "      <td>0.000361</td>\n",
       "      <td>8</td>\n",
       "      <td>-0.892898</td>\n",
       "      <td>0.011941</td>\n",
       "      <td>0</td>\n",
       "    </tr>\n",
       "    <tr>\n",
       "      <th>...</th>\n",
       "      <td>...</td>\n",
       "      <td>...</td>\n",
       "      <td>...</td>\n",
       "      <td>...</td>\n",
       "      <td>...</td>\n",
       "    </tr>\n",
       "    <tr>\n",
       "      <th>28170</th>\n",
       "      <td>0.999740</td>\n",
       "      <td>4</td>\n",
       "      <td>-0.281200</td>\n",
       "      <td>0.267027</td>\n",
       "      <td>0</td>\n",
       "    </tr>\n",
       "    <tr>\n",
       "      <th>28171</th>\n",
       "      <td>0.999692</td>\n",
       "      <td>9</td>\n",
       "      <td>-0.246793</td>\n",
       "      <td>0.554507</td>\n",
       "      <td>0</td>\n",
       "    </tr>\n",
       "    <tr>\n",
       "      <th>28172</th>\n",
       "      <td>0.999515</td>\n",
       "      <td>2</td>\n",
       "      <td>-0.472978</td>\n",
       "      <td>0.228537</td>\n",
       "      <td>0</td>\n",
       "    </tr>\n",
       "    <tr>\n",
       "      <th>28173</th>\n",
       "      <td>0.999799</td>\n",
       "      <td>6</td>\n",
       "      <td>-1.040529</td>\n",
       "      <td>0.000000</td>\n",
       "      <td>0</td>\n",
       "    </tr>\n",
       "    <tr>\n",
       "      <th>28174</th>\n",
       "      <td>1.000000</td>\n",
       "      <td>1</td>\n",
       "      <td>-0.584520</td>\n",
       "      <td>0.231181</td>\n",
       "      <td>0</td>\n",
       "    </tr>\n",
       "  </tbody>\n",
       "</table>\n",
       "<p>5587 rows × 5 columns</p>\n",
       "</div>"
      ],
      "text/plain": [
       "                    normalized_datetime  normal_prbid  normalized_avg   \n",
       "dst_addr                                                                \n",
       "52.46.200.93 22540             0.000106             5       -0.535096  \\\n",
       "             22541             0.000000            10        2.299934   \n",
       "             22542             0.000106            11        1.660160   \n",
       "             22543             0.000438            12        0.413936   \n",
       "             22544             0.000361             8       -0.892898   \n",
       "...                                 ...           ...             ...   \n",
       "             28170             0.999740             4       -0.281200   \n",
       "             28171             0.999692             9       -0.246793   \n",
       "             28172             0.999515             2       -0.472978   \n",
       "             28173             0.999799             6       -1.040529   \n",
       "             28174             1.000000             1       -0.584520   \n",
       "\n",
       "                    normalized_distance  classes  \n",
       "dst_addr                                          \n",
       "52.46.200.93 22540             0.202324        0  \n",
       "             22541             1.000000        2  \n",
       "             22542             0.745771        2  \n",
       "             22543             0.553591        1  \n",
       "             22544             0.011941        0  \n",
       "...                                 ...      ...  \n",
       "             28170             0.267027        0  \n",
       "             28171             0.554507        0  \n",
       "             28172             0.228537        0  \n",
       "             28173             0.000000        0  \n",
       "             28174             0.231181        0  \n",
       "\n",
       "[5587 rows x 5 columns]"
      ]
     },
     "execution_count": 3,
     "metadata": {},
     "output_type": "execute_result"
    }
   ],
   "source": [
    "# read the data \n",
    "filtered_df = pd.read_pickle('ec2_allprobes.pickle')\n",
    "normalised_df = pd.read_pickle('normalised_df.pickle')\n",
    "normalised_df"
   ]
  },
  {
   "cell_type": "code",
   "execution_count": 4,
   "metadata": {},
   "outputs": [],
   "source": [
    "features = normalised_df[\"normalized_distance\"]\n",
    "target = normalised_df[\"normalized_avg\"]\n",
    "\n",
    "# Calculate the index to split the data\n",
    "split_index = int(len(normalised_df) * 0.75)\n",
    "\n",
    "\n",
    "# split the dataset into training and testing sets\n",
    "X_train = features[0:int(split_index)].values\n",
    "X_test =  features[split_index :]\n",
    "y_train = target[0:int(split_index)]\n",
    "y_test = target[split_index :]"
   ]
  },
  {
   "cell_type": "code",
   "execution_count": 5,
   "metadata": {},
   "outputs": [
    {
     "data": {
      "text/plain": [
       "(4180, 10)"
      ]
     },
     "execution_count": 5,
     "metadata": {},
     "output_type": "execute_result"
    }
   ],
   "source": [
    "# split into samples (e.g. 4190/10 )\n",
    "# split a univariate sequence into samples\n",
    "from numpy import array\n",
    "\n",
    "def split_sequence(sequence, n_steps):\n",
    "    X = list()\n",
    "    for i in range(len(sequence)):\n",
    "        # find the end of this pattern\n",
    "        end_ix = i + n_steps\n",
    "        # check if we are beyond the sequence\n",
    "        if end_ix > len(sequence)-1:\n",
    "            break\n",
    "    # gather input and output parts of the pattern\n",
    "        seq_x = sequence[i:end_ix]\n",
    "        X.append(seq_x)\n",
    "    return array(X)\n",
    "\n",
    "Xtrain_3d = split_sequence(X_train,10)\n",
    "Xtest_3d = split_sequence(X_test,10)\n",
    "Xtrain_3d.shape"
   ]
  },
  {
   "cell_type": "code",
   "execution_count": 6,
   "metadata": {},
   "outputs": [
    {
     "data": {
      "text/plain": [
       "(10, 1)"
      ]
     },
     "execution_count": 6,
     "metadata": {},
     "output_type": "execute_result"
    }
   ],
   "source": [
    "# reshape from [samples, timesteps] into [samples, timesteps, features]\n",
    "n_features = 1\n",
    "Xtrain_3d  = Xtrain_3d .reshape((Xtrain_3d.shape[0], Xtrain_3d.shape[1], n_features))\n",
    "Xtest_3d = Xtest_3d .reshape((Xtest_3d.shape[0], Xtest_3d.shape[1], n_features))\n",
    "Xtrain_3d[0].shape"
   ]
  },
  {
   "cell_type": "code",
   "execution_count": 7,
   "metadata": {},
   "outputs": [],
   "source": [
    "# define model\n",
    "n_steps = 10 \n",
    "\n",
    "model = Sequential()\n",
    "model.add(LSTM(100, activation='relu', input_shape=(n_steps, n_features)))\n",
    "model.add(Dense(1))\n",
    "model.compile(optimizer='adam', loss='mse')"
   ]
  },
  {
   "cell_type": "code",
   "execution_count": 8,
   "metadata": {},
   "outputs": [
    {
     "name": "stderr",
     "output_type": "stream",
     "text": [
      "2023-06-30 16:23:30.074579: W tensorflow/tsl/platform/profile_utils/cpu_utils.cc:128] Failed to get CPU frequency: 0 Hz\n"
     ]
    },
    {
     "data": {
      "text/plain": [
       "<keras.callbacks.History at 0x165516ce0>"
      ]
     },
     "execution_count": 8,
     "metadata": {},
     "output_type": "execute_result"
    }
   ],
   "source": [
    "# fit model\n",
    "model.fit(Xtrain_3d, y_train[0:len(Xtrain_3d)], epochs=200, verbose=0)"
   ]
  },
  {
   "cell_type": "code",
   "execution_count": 9,
   "metadata": {},
   "outputs": [
    {
     "data": {
      "text/plain": [
       "0.01067332102692572"
      ]
     },
     "execution_count": 9,
     "metadata": {},
     "output_type": "execute_result"
    }
   ],
   "source": [
    "y_pred = model.predict(Xtest_3d, verbose=0)\n",
    "from sklearn.metrics import mean_squared_error\n",
    "mse = mean_squared_error(y_pred,y_test[0:len(y_pred)])\n",
    "mse"
   ]
  }
 ],
 "metadata": {
  "kernelspec": {
   "display_name": "Python 3 (ipykernel)",
   "language": "python",
   "name": "python3"
  },
  "language_info": {
   "codemirror_mode": {
    "name": "ipython",
    "version": 3
   },
   "file_extension": ".py",
   "mimetype": "text/x-python",
   "name": "python",
   "nbconvert_exporter": "python",
   "pygments_lexer": "ipython3",
   "version": "3.11.5"
  }
 },
 "nbformat": 4,
 "nbformat_minor": 2
}
