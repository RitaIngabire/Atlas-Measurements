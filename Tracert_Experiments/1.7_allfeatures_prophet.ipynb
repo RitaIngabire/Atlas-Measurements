{
 "cells": [
  {
   "cell_type": "code",
   "execution_count": 1,
   "metadata": {},
   "outputs": [],
   "source": [
    "import pandas as pd\n",
    "import numpy  as np\n",
    "import json\n",
    "import matplotlib.pyplot as plt\n",
    "import warnings\n",
    "from prophet import Prophet \n",
    "from sklearn.metrics import mean_squared_error\n",
    "import os "
   ]
  },
  {
   "cell_type": "code",
   "execution_count": 2,
   "metadata": {},
   "outputs": [],
   "source": [
    "# Initialize an empty DataFrame to store the results\n",
    "results_df = pd.DataFrame(columns=['Iteration', 'RMSE', 'Denormalized_RMSE'])"
   ]
  },
  {
   "cell_type": "code",
   "execution_count": 3,
   "metadata": {},
   "outputs": [
    {
     "name": "stderr",
     "output_type": "stream",
     "text": [
      "09:37:42 - cmdstanpy - INFO - Chain [1] start processing\n",
      "09:37:52 - cmdstanpy - INFO - Chain [1] done processing\n",
      "09:37:52 - cmdstanpy - ERROR - Chain [1] error: error during processing Operation not permitted\n",
      "Optimization terminated abnormally. Falling back to Newton.\n",
      "09:38:22 - cmdstanpy - INFO - Chain [1] start processing\n",
      "10:04:08 - cmdstanpy - INFO - Chain [1] done processing\n"
     ]
    },
    {
     "name": "stdout",
     "output_type": "stream",
     "text": [
      "RMSE for Prophet:  1.375643406278819 denormalised rmse:  10.625243436845059\n"
     ]
    },
    {
     "name": "stderr",
     "output_type": "stream",
     "text": [
      "10:43:59 - cmdstanpy - INFO - Chain [1] start processing\n",
      "10:44:12 - cmdstanpy - INFO - Chain [1] done processing\n",
      "10:44:12 - cmdstanpy - ERROR - Chain [1] error: error during processing Operation not permitted\n",
      "Optimization terminated abnormally. Falling back to Newton.\n",
      "10:44:48 - cmdstanpy - INFO - Chain [1] start processing\n",
      "11:14:34 - cmdstanpy - INFO - Chain [1] done processing\n"
     ]
    },
    {
     "name": "stdout",
     "output_type": "stream",
     "text": [
      "RMSE for Prophet:  1.4313143725636752 denormalised rmse:  15.256461576807292\n"
     ]
    },
    {
     "name": "stderr",
     "output_type": "stream",
     "text": [
      "12:04:55 - cmdstanpy - INFO - Chain [1] start processing\n",
      "Python(7685) MallocStackLogging: can't turn off malloc stack logging because it was not enabled.\n",
      "12:05:06 - cmdstanpy - INFO - Chain [1] done processing\n",
      "12:05:06 - cmdstanpy - ERROR - Chain [1] error: error during processing Operation not permitted\n",
      "Optimization terminated abnormally. Falling back to Newton.\n",
      "12:05:37 - cmdstanpy - INFO - Chain [1] start processing\n",
      "Python(7687) MallocStackLogging: can't turn off malloc stack logging because it was not enabled.\n",
      "12:38:50 - cmdstanpy - INFO - Chain [1] done processing\n"
     ]
    },
    {
     "name": "stdout",
     "output_type": "stream",
     "text": [
      "RMSE for Prophet:  1.3954451919470712 denormalised rmse:  13.337832364666644\n"
     ]
    },
    {
     "name": "stderr",
     "output_type": "stream",
     "text": [
      "13:21:21 - cmdstanpy - INFO - Chain [1] start processing\n",
      "Python(8166) MallocStackLogging: can't turn off malloc stack logging because it was not enabled.\n",
      "13:21:32 - cmdstanpy - INFO - Chain [1] done processing\n",
      "13:21:32 - cmdstanpy - ERROR - Chain [1] error: error during processing Operation not permitted\n",
      "Optimization terminated abnormally. Falling back to Newton.\n",
      "13:22:05 - cmdstanpy - INFO - Chain [1] start processing\n",
      "Python(8169) MallocStackLogging: can't turn off malloc stack logging because it was not enabled.\n",
      "14:16:32 - cmdstanpy - INFO - Chain [1] done processing\n"
     ]
    },
    {
     "name": "stdout",
     "output_type": "stream",
     "text": [
      "RMSE for Prophet:  1.405018608516589 denormalised rmse:  17.329967286275572\n"
     ]
    },
    {
     "name": "stderr",
     "output_type": "stream",
     "text": [
      "14:58:57 - cmdstanpy - INFO - Chain [1] start processing\n",
      "Python(8965) MallocStackLogging: can't turn off malloc stack logging because it was not enabled.\n",
      "14:59:07 - cmdstanpy - INFO - Chain [1] done processing\n",
      "14:59:07 - cmdstanpy - ERROR - Chain [1] error: error during processing Operation not permitted\n",
      "Optimization terminated abnormally. Falling back to Newton.\n",
      "14:59:38 - cmdstanpy - INFO - Chain [1] start processing\n",
      "Python(8970) MallocStackLogging: can't turn off malloc stack logging because it was not enabled.\n",
      "16:30:49 - cmdstanpy - INFO - Chain [1] done processing\n"
     ]
    },
    {
     "name": "stdout",
     "output_type": "stream",
     "text": [
      "RMSE for Prophet:  1.4043238012401962 denormalised rmse:  17.054116325385728\n"
     ]
    },
    {
     "name": "stderr",
     "output_type": "stream",
     "text": [
      "17:09:22 - cmdstanpy - INFO - Chain [1] start processing\n",
      "Python(9713) MallocStackLogging: can't turn off malloc stack logging because it was not enabled.\n",
      "17:09:33 - cmdstanpy - INFO - Chain [1] done processing\n",
      "17:09:33 - cmdstanpy - ERROR - Chain [1] error: error during processing Operation not permitted\n",
      "Optimization terminated abnormally. Falling back to Newton.\n",
      "17:10:06 - cmdstanpy - INFO - Chain [1] start processing\n",
      "Python(9718) MallocStackLogging: can't turn off malloc stack logging because it was not enabled.\n",
      "23:00:55 - cmdstanpy - INFO - Chain [1] done processing\n"
     ]
    },
    {
     "name": "stdout",
     "output_type": "stream",
     "text": [
      "RMSE for Prophet:  1.3860619190745997 denormalised rmse:  11.024468856510937\n"
     ]
    },
    {
     "name": "stderr",
     "output_type": "stream",
     "text": [
      "01:51:05 - cmdstanpy - INFO - Chain [1] start processing\n",
      "Python(11548) MallocStackLogging: can't turn off malloc stack logging because it was not enabled.\n",
      "01:51:17 - cmdstanpy - INFO - Chain [1] done processing\n",
      "01:51:17 - cmdstanpy - ERROR - Chain [1] error: error during processing Operation not permitted\n",
      "Optimization terminated abnormally. Falling back to Newton.\n",
      "01:51:52 - cmdstanpy - INFO - Chain [1] start processing\n",
      "Python(11550) MallocStackLogging: can't turn off malloc stack logging because it was not enabled.\n",
      "02:40:00 - cmdstanpy - INFO - Chain [1] done processing\n"
     ]
    },
    {
     "name": "stdout",
     "output_type": "stream",
     "text": [
      "RMSE for Prophet:  1.3927570211530116 denormalised rmse:  15.276532420580232\n"
     ]
    },
    {
     "name": "stderr",
     "output_type": "stream",
     "text": [
      "04:39:00 - cmdstanpy - INFO - Chain [1] start processing\n",
      "Python(12260) MallocStackLogging: can't turn off malloc stack logging because it was not enabled.\n",
      "04:39:11 - cmdstanpy - INFO - Chain [1] done processing\n",
      "04:39:11 - cmdstanpy - ERROR - Chain [1] error: error during processing Operation not permitted\n",
      "Optimization terminated abnormally. Falling back to Newton.\n",
      "04:39:43 - cmdstanpy - INFO - Chain [1] start processing\n",
      "Python(12266) MallocStackLogging: can't turn off malloc stack logging because it was not enabled.\n",
      "10:16:44 - cmdstanpy - INFO - Chain [1] done processing\n"
     ]
    },
    {
     "name": "stdout",
     "output_type": "stream",
     "text": [
      "RMSE for Prophet:  1.437494112979341 denormalised rmse:  14.08769368301591\n"
     ]
    },
    {
     "name": "stderr",
     "output_type": "stream",
     "text": [
      "11:02:43 - cmdstanpy - INFO - Chain [1] start processing\n",
      "Python(13762) MallocStackLogging: can't turn off malloc stack logging because it was not enabled.\n",
      "11:02:55 - cmdstanpy - INFO - Chain [1] done processing\n",
      "11:02:55 - cmdstanpy - ERROR - Chain [1] error: error during processing Operation not permitted\n",
      "Optimization terminated abnormally. Falling back to Newton.\n",
      "11:03:30 - cmdstanpy - INFO - Chain [1] start processing\n",
      "Python(13785) MallocStackLogging: can't turn off malloc stack logging because it was not enabled.\n",
      "11:28:47 - cmdstanpy - INFO - Chain [1] done processing\n"
     ]
    },
    {
     "name": "stdout",
     "output_type": "stream",
     "text": [
      "RMSE for Prophet:  1.377442998828359 denormalised rmse:  13.829093395106515\n"
     ]
    },
    {
     "name": "stderr",
     "output_type": "stream",
     "text": [
      "12:14:29 - cmdstanpy - INFO - Chain [1] start processing\n",
      "Python(14440) MallocStackLogging: can't turn off malloc stack logging because it was not enabled.\n",
      "12:14:41 - cmdstanpy - INFO - Chain [1] done processing\n",
      "12:14:41 - cmdstanpy - ERROR - Chain [1] error: error during processing Operation not permitted\n",
      "Optimization terminated abnormally. Falling back to Newton.\n",
      "12:15:16 - cmdstanpy - INFO - Chain [1] start processing\n",
      "Python(14442) MallocStackLogging: can't turn off malloc stack logging because it was not enabled.\n",
      "12:54:19 - cmdstanpy - INFO - Chain [1] done processing\n"
     ]
    },
    {
     "name": "stdout",
     "output_type": "stream",
     "text": [
      "RMSE for Prophet:  1.3995268093214672 denormalised rmse:  13.281652218738191\n"
     ]
    },
    {
     "name": "stderr",
     "output_type": "stream",
     "text": [
      "13:42:01 - cmdstanpy - INFO - Chain [1] start processing\n",
      "Python(15784) MallocStackLogging: can't turn off malloc stack logging because it was not enabled.\n",
      "13:42:13 - cmdstanpy - INFO - Chain [1] done processing\n",
      "13:42:13 - cmdstanpy - ERROR - Chain [1] error: error during processing Operation not permitted\n",
      "Optimization terminated abnormally. Falling back to Newton.\n",
      "13:42:48 - cmdstanpy - INFO - Chain [1] start processing\n",
      "Python(15785) MallocStackLogging: can't turn off malloc stack logging because it was not enabled.\n",
      "14:42:10 - cmdstanpy - INFO - Chain [1] done processing\n"
     ]
    },
    {
     "name": "stdout",
     "output_type": "stream",
     "text": [
      "RMSE for Prophet:  1.397343965870474 denormalised rmse:  15.16382685032535\n"
     ]
    },
    {
     "name": "stderr",
     "output_type": "stream",
     "text": [
      "15:32:32 - cmdstanpy - INFO - Chain [1] start processing\n",
      "Python(16581) MallocStackLogging: can't turn off malloc stack logging because it was not enabled.\n",
      "15:32:44 - cmdstanpy - INFO - Chain [1] done processing\n",
      "15:32:44 - cmdstanpy - ERROR - Chain [1] error: error during processing Operation not permitted\n",
      "Optimization terminated abnormally. Falling back to Newton.\n",
      "15:33:18 - cmdstanpy - INFO - Chain [1] start processing\n",
      "Python(16609) MallocStackLogging: can't turn off malloc stack logging because it was not enabled.\n",
      "16:10:36 - cmdstanpy - INFO - Chain [1] done processing\n"
     ]
    },
    {
     "name": "stdout",
     "output_type": "stream",
     "text": [
      "RMSE for Prophet:  1.411599852777515 denormalised rmse:  14.707558970923841\n"
     ]
    },
    {
     "name": "stderr",
     "output_type": "stream",
     "text": [
      "17:03:02 - cmdstanpy - INFO - Chain [1] start processing\n",
      "Python(17372) MallocStackLogging: can't turn off malloc stack logging because it was not enabled.\n",
      "17:03:14 - cmdstanpy - INFO - Chain [1] done processing\n",
      "17:03:14 - cmdstanpy - ERROR - Chain [1] error: error during processing Operation not permitted\n",
      "Optimization terminated abnormally. Falling back to Newton.\n",
      "17:03:49 - cmdstanpy - INFO - Chain [1] start processing\n",
      "Python(17374) MallocStackLogging: can't turn off malloc stack logging because it was not enabled.\n",
      "18:26:22 - cmdstanpy - INFO - Chain [1] done processing\n"
     ]
    },
    {
     "name": "stdout",
     "output_type": "stream",
     "text": [
      "RMSE for Prophet:  1.393157407189147 denormalised rmse:  13.02145151287965\n"
     ]
    },
    {
     "name": "stderr",
     "output_type": "stream",
     "text": [
      "20:05:30 - cmdstanpy - INFO - Chain [1] start processing\n",
      "Python(18450) MallocStackLogging: can't turn off malloc stack logging because it was not enabled.\n",
      "20:05:41 - cmdstanpy - INFO - Chain [1] done processing\n",
      "20:05:41 - cmdstanpy - ERROR - Chain [1] error: error during processing Operation not permitted\n",
      "Optimization terminated abnormally. Falling back to Newton.\n",
      "20:06:14 - cmdstanpy - INFO - Chain [1] start processing\n",
      "Python(18451) MallocStackLogging: can't turn off malloc stack logging because it was not enabled.\n",
      "20:42:35 - cmdstanpy - INFO - Chain [1] done processing\n"
     ]
    },
    {
     "name": "stdout",
     "output_type": "stream",
     "text": [
      "RMSE for Prophet:  1.4116255030851064 denormalised rmse:  17.475102970037508\n"
     ]
    },
    {
     "name": "stderr",
     "output_type": "stream",
     "text": [
      "22:01:17 - cmdstanpy - INFO - Chain [1] start processing\n",
      "Python(19461) MallocStackLogging: can't turn off malloc stack logging because it was not enabled.\n",
      "22:01:28 - cmdstanpy - INFO - Chain [1] done processing\n",
      "22:01:28 - cmdstanpy - ERROR - Chain [1] error: error during processing Operation not permitted\n",
      "Optimization terminated abnormally. Falling back to Newton.\n",
      "22:02:00 - cmdstanpy - INFO - Chain [1] start processing\n",
      "Python(19462) MallocStackLogging: can't turn off malloc stack logging because it was not enabled.\n",
      "03:58:33 - cmdstanpy - INFO - Chain [1] done processing\n"
     ]
    },
    {
     "name": "stdout",
     "output_type": "stream",
     "text": [
      "RMSE for Prophet:  1.4051056042200205 denormalised rmse:  12.7067031825195\n"
     ]
    },
    {
     "name": "stderr",
     "output_type": "stream",
     "text": [
      "07:26:44 - cmdstanpy - INFO - Chain [1] start processing\n",
      "Python(20947) MallocStackLogging: can't turn off malloc stack logging because it was not enabled.\n",
      "07:26:54 - cmdstanpy - INFO - Chain [1] done processing\n",
      "07:26:54 - cmdstanpy - ERROR - Chain [1] error: error during processing Operation not permitted\n",
      "Optimization terminated abnormally. Falling back to Newton.\n",
      "07:27:24 - cmdstanpy - INFO - Chain [1] start processing\n",
      "Python(20958) MallocStackLogging: can't turn off malloc stack logging because it was not enabled.\n",
      "10:28:04 - cmdstanpy - INFO - Chain [1] done processing\n"
     ]
    },
    {
     "name": "stdout",
     "output_type": "stream",
     "text": [
      "RMSE for Prophet:  1.4128220106345244 denormalised rmse:  14.123672607442511\n"
     ]
    },
    {
     "name": "stderr",
     "output_type": "stream",
     "text": [
      "11:11:07 - cmdstanpy - INFO - Chain [1] start processing\n",
      "Python(22417) MallocStackLogging: can't turn off malloc stack logging because it was not enabled.\n",
      "11:27:08 - cmdstanpy - INFO - Chain [1] done processing\n",
      "11:27:08 - cmdstanpy - ERROR - Chain [1] error: error during processing Operation not permitted\n",
      "Optimization terminated abnormally. Falling back to Newton.\n",
      "11:27:43 - cmdstanpy - INFO - Chain [1] start processing\n",
      "Python(22444) MallocStackLogging: can't turn off malloc stack logging because it was not enabled.\n",
      "16:35:38 - cmdstanpy - INFO - Chain [1] done processing\n"
     ]
    },
    {
     "name": "stdout",
     "output_type": "stream",
     "text": [
      "RMSE for Prophet:  1.393453158577611 denormalised rmse:  15.632987106683517\n"
     ]
    },
    {
     "name": "stderr",
     "output_type": "stream",
     "text": [
      "18:00:52 - cmdstanpy - INFO - Chain [1] start processing\n",
      "Python(24231) MallocStackLogging: can't turn off malloc stack logging because it was not enabled.\n",
      "18:01:05 - cmdstanpy - INFO - Chain [1] done processing\n",
      "18:01:05 - cmdstanpy - ERROR - Chain [1] error: error during processing Operation not permitted\n",
      "Optimization terminated abnormally. Falling back to Newton.\n",
      "18:01:42 - cmdstanpy - INFO - Chain [1] start processing\n",
      "Python(24232) MallocStackLogging: can't turn off malloc stack logging because it was not enabled.\n",
      "20:51:08 - cmdstanpy - INFO - Chain [1] done processing\n"
     ]
    },
    {
     "name": "stdout",
     "output_type": "stream",
     "text": [
      "RMSE for Prophet:  1.4063965103777527 denormalised rmse:  14.27744365641667\n"
     ]
    },
    {
     "name": "stderr",
     "output_type": "stream",
     "text": [
      "21:39:19 - cmdstanpy - INFO - Chain [1] start processing\n",
      "Python(26064) MallocStackLogging: can't turn off malloc stack logging because it was not enabled.\n",
      "21:39:30 - cmdstanpy - INFO - Chain [1] done processing\n",
      "21:39:30 - cmdstanpy - ERROR - Chain [1] error: error during processing Operation not permitted\n",
      "Optimization terminated abnormally. Falling back to Newton.\n",
      "21:40:05 - cmdstanpy - INFO - Chain [1] start processing\n",
      "Python(26072) MallocStackLogging: can't turn off malloc stack logging because it was not enabled.\n",
      "00:00:49 - cmdstanpy - INFO - Chain [1] done processing\n"
     ]
    },
    {
     "name": "stdout",
     "output_type": "stream",
     "text": [
      "RMSE for Prophet:  1.3836559315688213 denormalised rmse:  13.82405448242011\n"
     ]
    },
    {
     "name": "stderr",
     "output_type": "stream",
     "text": [
      "02:51:11 - cmdstanpy - INFO - Chain [1] start processing\n",
      "Python(27246) MallocStackLogging: can't turn off malloc stack logging because it was not enabled.\n",
      "02:51:22 - cmdstanpy - INFO - Chain [1] done processing\n",
      "02:51:22 - cmdstanpy - ERROR - Chain [1] error: error during processing Operation not permitted\n",
      "Optimization terminated abnormally. Falling back to Newton.\n",
      "02:51:56 - cmdstanpy - INFO - Chain [1] start processing\n",
      "Python(27248) MallocStackLogging: can't turn off malloc stack logging because it was not enabled.\n",
      "07:22:06 - cmdstanpy - INFO - Chain [1] done processing\n"
     ]
    },
    {
     "name": "stdout",
     "output_type": "stream",
     "text": [
      "RMSE for Prophet:  1.4127269572982273 denormalised rmse:  17.139154163617416\n"
     ]
    },
    {
     "name": "stderr",
     "output_type": "stream",
     "text": [
      "09:10:33 - cmdstanpy - INFO - Chain [1] start processing\n",
      "Python(28613) MallocStackLogging: can't turn off malloc stack logging because it was not enabled.\n",
      "09:10:46 - cmdstanpy - INFO - Chain [1] done processing\n",
      "09:10:46 - cmdstanpy - ERROR - Chain [1] error: error during processing Operation not permitted\n",
      "Optimization terminated abnormally. Falling back to Newton.\n",
      "09:11:24 - cmdstanpy - INFO - Chain [1] start processing\n",
      "Python(28620) MallocStackLogging: can't turn off malloc stack logging because it was not enabled.\n",
      "11:34:51 - cmdstanpy - INFO - Chain [1] done processing\n"
     ]
    },
    {
     "name": "stdout",
     "output_type": "stream",
     "text": [
      "RMSE for Prophet:  1.4009536409614154 denormalised rmse:  16.150978622412982\n"
     ]
    },
    {
     "name": "stderr",
     "output_type": "stream",
     "text": [
      "14:03:35 - cmdstanpy - INFO - Chain [1] start processing\n",
      "Python(30078) MallocStackLogging: can't turn off malloc stack logging because it was not enabled.\n",
      "14:03:48 - cmdstanpy - INFO - Chain [1] done processing\n",
      "14:03:48 - cmdstanpy - ERROR - Chain [1] error: error during processing Operation not permitted\n",
      "Optimization terminated abnormally. Falling back to Newton.\n",
      "14:04:23 - cmdstanpy - INFO - Chain [1] start processing\n",
      "Python(30079) MallocStackLogging: can't turn off malloc stack logging because it was not enabled.\n",
      "15:21:28 - cmdstanpy - INFO - Chain [1] done processing\n"
     ]
    },
    {
     "name": "stdout",
     "output_type": "stream",
     "text": [
      "RMSE for Prophet:  1.3813139455644767 denormalised rmse:  14.481461496170503\n"
     ]
    },
    {
     "name": "stderr",
     "output_type": "stream",
     "text": [
      "16:07:34 - cmdstanpy - INFO - Chain [1] start processing\n",
      "Python(34949) MallocStackLogging: can't turn off malloc stack logging because it was not enabled.\n",
      "16:07:46 - cmdstanpy - INFO - Chain [1] done processing\n",
      "16:07:46 - cmdstanpy - ERROR - Chain [1] error: error during processing Operation not permitted\n",
      "Optimization terminated abnormally. Falling back to Newton.\n",
      "16:08:20 - cmdstanpy - INFO - Chain [1] start processing\n",
      "Python(34950) MallocStackLogging: can't turn off malloc stack logging because it was not enabled.\n",
      "17:04:44 - cmdstanpy - INFO - Chain [1] done processing\n"
     ]
    },
    {
     "name": "stdout",
     "output_type": "stream",
     "text": [
      "RMSE for Prophet:  1.4042482316509675 denormalised rmse:  14.559250451522335\n"
     ]
    },
    {
     "name": "stderr",
     "output_type": "stream",
     "text": [
      "18:04:22 - cmdstanpy - INFO - Chain [1] start processing\n",
      "Python(40244) MallocStackLogging: can't turn off malloc stack logging because it was not enabled.\n",
      "18:04:46 - cmdstanpy - INFO - Chain [1] done processing\n",
      "18:04:46 - cmdstanpy - ERROR - Chain [1] error: error during processing Operation not permitted\n",
      "Optimization terminated abnormally. Falling back to Newton.\n",
      "18:05:54 - cmdstanpy - INFO - Chain [1] start processing\n",
      "Python(40251) MallocStackLogging: can't turn off malloc stack logging because it was not enabled.\n",
      "18:36:56 - cmdstanpy - INFO - Chain [1] done processing\n"
     ]
    },
    {
     "name": "stdout",
     "output_type": "stream",
     "text": [
      "RMSE for Prophet:  1.3905234025214324 denormalised rmse:  16.945316661661696\n"
     ]
    },
    {
     "name": "stderr",
     "output_type": "stream",
     "text": [
      "19:21:41 - cmdstanpy - INFO - Chain [1] start processing\n",
      "Python(41806) MallocStackLogging: can't turn off malloc stack logging because it was not enabled.\n",
      "19:21:53 - cmdstanpy - INFO - Chain [1] done processing\n",
      "19:21:53 - cmdstanpy - ERROR - Chain [1] error: error during processing Operation not permitted\n",
      "Optimization terminated abnormally. Falling back to Newton.\n",
      "19:22:27 - cmdstanpy - INFO - Chain [1] start processing\n",
      "Python(41807) MallocStackLogging: can't turn off malloc stack logging because it was not enabled.\n",
      "19:40:44 - cmdstanpy - INFO - Chain [1] done processing\n"
     ]
    },
    {
     "name": "stdout",
     "output_type": "stream",
     "text": [
      "RMSE for Prophet:  1.401155775414182 denormalised rmse:  16.203310152330396\n"
     ]
    },
    {
     "name": "stderr",
     "output_type": "stream",
     "text": [
      "20:30:05 - cmdstanpy - INFO - Chain [1] start processing\n",
      "Python(43120) MallocStackLogging: can't turn off malloc stack logging because it was not enabled.\n",
      "20:30:16 - cmdstanpy - INFO - Chain [1] done processing\n",
      "20:30:16 - cmdstanpy - ERROR - Chain [1] error: error during processing Operation not permitted\n",
      "Optimization terminated abnormally. Falling back to Newton.\n",
      "20:30:48 - cmdstanpy - INFO - Chain [1] start processing\n",
      "Python(43121) MallocStackLogging: can't turn off malloc stack logging because it was not enabled.\n",
      "20:51:11 - cmdstanpy - INFO - Chain [1] done processing\n"
     ]
    },
    {
     "name": "stdout",
     "output_type": "stream",
     "text": [
      "RMSE for Prophet:  1.3948363226946399 denormalised rmse:  12.990203140484805\n"
     ]
    },
    {
     "name": "stderr",
     "output_type": "stream",
     "text": [
      "21:51:39 - cmdstanpy - INFO - Chain [1] start processing\n",
      "Python(43905) MallocStackLogging: can't turn off malloc stack logging because it was not enabled.\n",
      "21:51:53 - cmdstanpy - INFO - Chain [1] done processing\n",
      "21:51:53 - cmdstanpy - ERROR - Chain [1] error: error during processing Operation not permitted\n",
      "Optimization terminated abnormally. Falling back to Newton.\n",
      "21:52:31 - cmdstanpy - INFO - Chain [1] start processing\n",
      "Python(43906) MallocStackLogging: can't turn off malloc stack logging because it was not enabled.\n",
      "23:36:41 - cmdstanpy - INFO - Chain [1] done processing\n"
     ]
    },
    {
     "name": "stdout",
     "output_type": "stream",
     "text": [
      "RMSE for Prophet:  1.4048411692873155 denormalised rmse:  13.644115640150776\n"
     ]
    },
    {
     "name": "stderr",
     "output_type": "stream",
     "text": [
      "03:46:07 - cmdstanpy - INFO - Chain [1] start processing\n",
      "Python(45061) MallocStackLogging: can't turn off malloc stack logging because it was not enabled.\n",
      "03:46:19 - cmdstanpy - INFO - Chain [1] done processing\n",
      "03:46:19 - cmdstanpy - ERROR - Chain [1] error: error during processing Operation not permitted\n",
      "Optimization terminated abnormally. Falling back to Newton.\n",
      "03:46:55 - cmdstanpy - INFO - Chain [1] start processing\n",
      "Python(45063) MallocStackLogging: can't turn off malloc stack logging because it was not enabled.\n",
      "06:10:19 - cmdstanpy - INFO - Chain [1] done processing\n"
     ]
    },
    {
     "name": "stdout",
     "output_type": "stream",
     "text": [
      "RMSE for Prophet:  1.386793679300503 denormalised rmse:  12.984996974848514\n"
     ]
    },
    {
     "name": "stderr",
     "output_type": "stream",
     "text": [
      "07:40:40 - cmdstanpy - INFO - Chain [1] start processing\n",
      "Python(46044) MallocStackLogging: can't turn off malloc stack logging because it was not enabled.\n",
      "07:40:52 - cmdstanpy - INFO - Chain [1] done processing\n",
      "07:40:52 - cmdstanpy - ERROR - Chain [1] error: error during processing Operation not permitted\n",
      "Optimization terminated abnormally. Falling back to Newton.\n",
      "07:47:32 - cmdstanpy - INFO - Chain [1] start processing\n",
      "Python(46066) MallocStackLogging: can't turn off malloc stack logging because it was not enabled.\n",
      "09:52:48 - cmdstanpy - INFO - Chain [1] done processing\n"
     ]
    },
    {
     "name": "stdout",
     "output_type": "stream",
     "text": [
      "RMSE for Prophet:  1.3949356485953845 denormalised rmse:  13.956002613438406\n"
     ]
    },
    {
     "name": "stderr",
     "output_type": "stream",
     "text": [
      "10:44:29 - cmdstanpy - INFO - Chain [1] start processing\n",
      "Python(47322) MallocStackLogging: can't turn off malloc stack logging because it was not enabled.\n",
      "10:44:41 - cmdstanpy - INFO - Chain [1] done processing\n",
      "10:44:41 - cmdstanpy - ERROR - Chain [1] error: error during processing Operation not permitted\n",
      "Optimization terminated abnormally. Falling back to Newton.\n",
      "10:45:16 - cmdstanpy - INFO - Chain [1] start processing\n",
      "Python(47335) MallocStackLogging: can't turn off malloc stack logging because it was not enabled.\n",
      "11:00:45 - cmdstanpy - INFO - Chain [1] done processing\n"
     ]
    },
    {
     "name": "stdout",
     "output_type": "stream",
     "text": [
      "RMSE for Prophet:  1.3769116464778655 denormalised rmse:  15.1634760536428\n",
      "Evaluation results saved to: model_results/prophet_evaluation_results.csv\n"
     ]
    }
   ],
   "source": [
    "# Initialize an empty list to store the results\n",
    "results_list = []\n",
    "\n",
    "for iteration in range(30):\n",
    "    # Load the train and test pickles for the current iteration\n",
    "    train_pickle_path = os.path.join('train_test_pickles', f'train_df_{iteration}.pickle')\n",
    "    test_pickle_path = os.path.join('train_test_pickles', f'test_df_{iteration}.pickle')\n",
    "    \n",
    "    # Load the pickles\n",
    "    train_df = pd.read_pickle(train_pickle_path)\n",
    "    test_df = pd.read_pickle(test_pickle_path)\n",
    "    \n",
    "    #get the training std \n",
    "    trainrtt_mean = train_df['last_rtt'].mean()\n",
    "    trainrtt_std = train_df['last_rtt'].std()\n",
    "    \n",
    "    cols_dropped = ['date','last_rtt','normalizzed_rtt','src_names']\n",
    "\n",
    "    X_train = train_df.drop(columns=cols_dropped, axis=1)\n",
    "    y_train = train_df['normalizzed_rtt']\n",
    "\n",
    "    X_test = test_df.drop(columns=cols_dropped, axis=1)\n",
    "    y_test = test_df['normalizzed_rtt'] \n",
    "    \n",
    "    # Initialize and Fit the Prophet Model\n",
    "    model = Prophet()\n",
    "\n",
    "    #adding the regressors\n",
    "    features = X_test.columns\n",
    "\n",
    "    for feature in features:\n",
    "        model.add_regressor(feature)\n",
    "    \n",
    "    #extract the test data from the test_df\n",
    "    prophet_test = test_df.rename(columns={'date':'ds', 'normalizzed_rtt':'y'})\n",
    "    y_test = prophet_test['y']\n",
    "    \n",
    "    # fit the model to the data\n",
    "    model.fit(prophet_test)\n",
    "\n",
    "    # Make In-Sample Predictions\n",
    "    in_sample_forecast = model.predict(prophet_test)\n",
    "    \n",
    "    # calculate the mean squared error and standard deviation\n",
    "    sample_size = len(y_test)\n",
    "    numerator = abs(in_sample_forecast['yhat'] - y_test)**2 \n",
    "    denominator = sample_size - 1\n",
    "\n",
    "    #loss function for Prophet\n",
    "    rmse_prophet = np.sqrt(mean_squared_error(y_test, in_sample_forecast['yhat']))\n",
    "    drmse_prophet = rmse_prophet * trainrtt_std\n",
    "    print(f'RMSE for Prophet: ', rmse_prophet, 'denormalised rmse: ', drmse_prophet)\n",
    "    \n",
    "    # Append the results to the DataFrame\n",
    "    # Append the results to the list\n",
    "    results_list.append({'Iteration': iteration, 'RMSE': rmse_prophet, 'Denormalized_RMSE': drmse_prophet})\n",
    "\n",
    "\n",
    "# Convert the list of dictionaries to a DataFrame\n",
    "results_df = pd.DataFrame(results_list)\n",
    "\n",
    "# Save the results to a CSV file\n",
    "results_folder = 'model_results'\n",
    "results_csv_path = os.path.join(results_folder, 'prophet_evaluation_results.csv')\n",
    "results_df.to_csv(results_csv_path, index=False)\n",
    "\n",
    "print('Evaluation results saved to:', results_csv_path)\n"
   ]
  }
 ],
 "metadata": {
  "kernelspec": {
   "display_name": "Python 3",
   "language": "python",
   "name": "python3"
  },
  "language_info": {
   "codemirror_mode": {
    "name": "ipython",
    "version": 3
   },
   "file_extension": ".py",
   "mimetype": "text/x-python",
   "name": "python",
   "nbconvert_exporter": "python",
   "pygments_lexer": "ipython3",
   "version": "3.10.11"
  }
 },
 "nbformat": 4,
 "nbformat_minor": 2
}
