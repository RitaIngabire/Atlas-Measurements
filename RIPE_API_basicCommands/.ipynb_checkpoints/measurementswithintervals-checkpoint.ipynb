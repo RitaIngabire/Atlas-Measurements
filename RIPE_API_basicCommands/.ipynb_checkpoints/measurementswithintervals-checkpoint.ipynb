{
 "cells": [
  {
   "cell_type": "code",
   "execution_count": 1,
   "metadata": {},
   "outputs": [
    {
     "ename": "ModuleNotFoundError",
     "evalue": "No module named 'ripe.atlas.sagan'",
     "output_type": "error",
     "traceback": [
      "\u001b[1;31m---------------------------------------------------------------------------\u001b[0m",
      "\u001b[1;31mModuleNotFoundError\u001b[0m                       Traceback (most recent call last)",
      "Cell \u001b[1;32mIn[1], line 3\u001b[0m\n\u001b[0;32m      1\u001b[0m \u001b[38;5;28;01mfrom\u001b[39;00m \u001b[38;5;21;01mdatetime\u001b[39;00m \u001b[38;5;28;01mimport\u001b[39;00m datetime\n\u001b[0;32m      2\u001b[0m \u001b[38;5;28;01mfrom\u001b[39;00m \u001b[38;5;21;01mripe\u001b[39;00m\u001b[38;5;21;01m.\u001b[39;00m\u001b[38;5;21;01matlas\u001b[39;00m\u001b[38;5;21;01m.\u001b[39;00m\u001b[38;5;21;01mcousteau\u001b[39;00m \u001b[38;5;28;01mimport\u001b[39;00m AtlasResultsRequest\n\u001b[1;32m----> 3\u001b[0m \u001b[38;5;28;01mfrom\u001b[39;00m \u001b[38;5;21;01mripe\u001b[39;00m\u001b[38;5;21;01m.\u001b[39;00m\u001b[38;5;21;01matlas\u001b[39;00m\u001b[38;5;21;01m.\u001b[39;00m\u001b[38;5;21;01msagan\u001b[39;00m \u001b[38;5;28;01mimport\u001b[39;00m PingResult\n\u001b[0;32m      4\u001b[0m \u001b[38;5;28;01mimport\u001b[39;00m \u001b[38;5;21;01mcsv\u001b[39;00m\n\u001b[0;32m      5\u001b[0m \u001b[38;5;28;01mimport\u001b[39;00m \u001b[38;5;21;01mseaborn\u001b[39;00m \u001b[38;5;28;01mas\u001b[39;00m \u001b[38;5;21;01msns\u001b[39;00m \n",
      "\u001b[1;31mModuleNotFoundError\u001b[0m: No module named 'ripe.atlas.sagan'"
     ]
    }
   ],
   "source": [
    "from datetime import datetime\n",
    "from ripe.atlas.cousteau import AtlasResultsRequest\n",
    "from ripe.atlas.sagan import PingResult\n",
    "import csv\n",
    "import seaborn as sns \n",
    "import matplotlib.pyplot as plt"
   ]
  },
  {
   "cell_type": "code",
   "execution_count": 2,
   "metadata": {},
   "outputs": [],
   "source": [
    "msm= [47799271]\n",
    "\n",
    "#building the probes list \n",
    "with open(\"/Users/ritaingabire/Documents/RESTAPIMeasurements/id_probes.csv\",\"r\") as probes:\n",
    "    probesReader= csv.reader(probes,delimiter=\";\")\n",
    "    next(probes)\n",
    "    probesList = []\n",
    "    for i in probesReader:\n",
    "        probesList.append(i[0])"
   ]
  },
  {
   "cell_type": "code",
   "execution_count": 10,
   "metadata": {},
   "outputs": [],
   "source": [
    "rtt_times = []\n",
    "probes = []\n",
    "\n",
    "\n",
    "    \n",
    "for j in probesList:\n",
    "    kwargs = {\n",
    "                \"msm_id\": i,\n",
    "                \"probe_ids\": j\n",
    "            }\n",
    "        \n",
    "    is_success, results = AtlasResultsRequest(**kwargs).create()\n",
    "        \n",
    "    if is_success:\n",
    "        for i in results:\n",
    "            print(type(results))\n",
    "            #probes.append(j)\n",
    "            #print(results)\n",
    "        else: \n",
    "                print(results)\n",
    "            "
   ]
  }
 ],
 "metadata": {
  "kernelspec": {
   "display_name": "Python 3 (ipykernel)",
   "language": "python",
   "name": "python3"
  },
  "language_info": {
   "codemirror_mode": {
    "name": "ipython",
    "version": 3
   },
   "file_extension": ".py",
   "mimetype": "text/x-python",
   "name": "python",
   "nbconvert_exporter": "python",
   "pygments_lexer": "ipython3",
   "version": "3.11.5"
  },
  "vscode": {
   "interpreter": {
    "hash": "b0fa6594d8f4cbf19f97940f81e996739fb7646882a419484c72d19e05852a7e"
   }
  }
 },
 "nbformat": 4,
 "nbformat_minor": 2
}
