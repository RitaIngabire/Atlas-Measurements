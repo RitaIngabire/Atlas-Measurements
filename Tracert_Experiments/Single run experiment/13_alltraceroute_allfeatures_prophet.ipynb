{
 "cells": [
  {
   "cell_type": "code",
   "execution_count": 1,
   "metadata": {},
   "outputs": [],
   "source": [
    "import pandas as pd\n",
    "import numpy  as np\n",
    "import json\n",
    "import matplotlib.pyplot as plt\n",
    "import warnings\n",
    "warnings.filterwarnings(\"ignore\",category=DeprecationWarning)\n",
    "warnings.simplefilter(\"ignore\")\n",
    "hfont = {'fontname':'Monaco'}\n",
    "hfont = {'fontsize':'24'}\n",
    "\n",
    "# Making the plots standard \n",
    "%matplotlib inline\n",
    "plt.rcParams[\"figure.figsize\"] = [16, 5]"
   ]
  },
  {
   "cell_type": "code",
   "execution_count": 2,
   "metadata": {},
   "outputs": [],
   "source": [
    "#import the training and test pickles \n",
    "train_df = pd.read_pickle('train_df.pickle')\n",
    "test_df = pd.read_pickle('test_df.pickle')\n",
    "\n",
    "#get the training std \n",
    "trainrtt_mean = train_df['last_rtt'].mean()\n",
    "trainrtt_std = train_df['last_rtt'].std()"
   ]
  },
  {
   "cell_type": "code",
   "execution_count": 3,
   "metadata": {},
   "outputs": [],
   "source": [
    "cols_dropped = ['date','last_rtt','normalizzed_rtt','src_names']\n",
    "\n",
    "X_train = train_df.drop(columns=cols_dropped, axis=1)\n",
    "y_train = train_df['normalizzed_rtt']\n",
    "\n",
    "X_test = test_df.drop(columns=cols_dropped, axis=1)\n",
    "y_test = test_df['normalizzed_rtt'] "
   ]
  },
  {
   "cell_type": "code",
   "execution_count": 4,
   "metadata": {},
   "outputs": [
    {
     "name": "stderr",
     "output_type": "stream",
     "text": [
      "12:58:41 - cmdstanpy - INFO - Chain [1] start processing\n",
      "12:59:02 - cmdstanpy - INFO - Chain [1] done processing\n",
      "12:59:02 - cmdstanpy - ERROR - Chain [1] error: error during processing Operation not permitted\n",
      "Optimization terminated abnormally. Falling back to Newton.\n",
      "13:00:01 - cmdstanpy - INFO - Chain [1] start processing\n",
      "13:22:55 - cmdstanpy - INFO - Chain [1] done processing\n"
     ]
    },
    {
     "name": "stdout",
     "output_type": "stream",
     "text": [
      "RMSE for Prophet:  1.394979396803665 denormalised rmse:  13.031969584032549\n"
     ]
    }
   ],
   "source": [
    "# Using Prophet for time series forecasting\n",
    "# https://www.youtube.com/watch?v=j_KuqOktXZM&list=PL6UJrXaOPPcEesMFPaieQJwnBvKiRH2tT&index=2\n",
    "# https://facebook.github.io/prophet/docs/seasonality,_holiday_effects,_and_regressors.html\n",
    "from prophet import Prophet \n",
    "from sklearn.metrics import mean_squared_error\n",
    "\n",
    "# rename columns names for Prophet\n",
    "prophet_train = test_df.copy()\n",
    "prophet_train = prophet_train.rename(columns={'date':'ds', 'normalizzed_rtt':'y'})\n",
    "\n",
    "# Initialize and Fit the Prophet Model\n",
    "model = Prophet()\n",
    "\n",
    "#adding the regressors\n",
    "features = X_test.columns\n",
    "\n",
    "for feature in features:\n",
    "    model.add_regressor(feature)\n",
    "\n",
    "\n",
    "# fit the model to the data\n",
    "model.fit(prophet_train)\n",
    "\n",
    "# Make In-Sample Predictions\n",
    "in_sample_forecast = model.predict(prophet_train)\n",
    "\n",
    "#extract the test data from the test_df\n",
    "prophet_test = test_df.rename(columns={'date':'ds', 'normalizzed_rtt':'y'})\n",
    "y_test = prophet_test['y']\n",
    "\n",
    "# calculate the mean squared error and standard deviation\n",
    "sample_size = len(y_test)\n",
    "numerator = abs(in_sample_forecast['yhat'] - y_test)**2 \n",
    "denominator = sample_size - 1\n",
    "\n",
    "#loss function for Prophet\n",
    "rmse_prophet = np.sqrt(mean_squared_error(y_test, in_sample_forecast['yhat']))\n",
    "drmse_prophet = rmse_prophet * trainrtt_std\n",
    "print(f'RMSE for Prophet: ', rmse_prophet, 'denormalised rmse: ', drmse_prophet)"
   ]
  }
 ],
 "metadata": {
  "kernelspec": {
   "display_name": "Python 3",
   "language": "python",
   "name": "python3"
  },
  "language_info": {
   "codemirror_mode": {
    "name": "ipython",
    "version": 3
   },
   "file_extension": ".py",
   "mimetype": "text/x-python",
   "name": "python",
   "nbconvert_exporter": "python",
   "pygments_lexer": "ipython3",
   "version": "3.10.11"
  }
 },
 "nbformat": 4,
 "nbformat_minor": 2
}
