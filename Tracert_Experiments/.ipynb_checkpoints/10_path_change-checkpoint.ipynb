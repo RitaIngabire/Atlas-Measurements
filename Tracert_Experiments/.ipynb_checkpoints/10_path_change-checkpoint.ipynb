{
 "cells": [
  {
   "cell_type": "code",
   "execution_count": 1,
   "metadata": {},
   "outputs": [],
   "source": [
    "# foundational libraries \n",
    "import pandas as pd\n",
    "import numpy  as np\n",
    "import json\n",
    "import math \n",
    "import matplotlib.pyplot as plt\n",
    "import warnings\n",
    "warnings.filterwarnings(\"ignore\",category=DeprecationWarning)\n",
    "warnings.simplefilter(action='ignore', category=FutureWarning)\n",
    "hfont = {'fontname':'Monaco'}\n",
    "\n",
    "# Making the plots standard \n",
    "%matplotlib inline\n",
    "plt.rcParams[\"figure.figsize\"] = [12,4]\n",
    "plt.rcParams['font.size'] =  13 \n"
   ]
  },
  {
   "cell_type": "code",
   "execution_count": 2,
   "metadata": {},
   "outputs": [],
   "source": [
    "# read in the experiment data for analysis \n",
    "raw_df = pd.read_pickle('all_measurements.pickle')\n",
    "processed_df = pd.read_pickle('traceroute.pickle')"
   ]
  },
  {
   "cell_type": "code",
   "execution_count": null,
   "metadata": {},
   "outputs": [],
   "source": [
    "def check_ippath(source,destination):\n",
    "    ip_df = analysis_df[(analysis_df['prb_id'] == source) & (analysis_df['dst_id'] == destination)]\n",
    "    "
   ]
  }
 ],
 "metadata": {
  "kernelspec": {
   "display_name": "Python 3 (ipykernel)",
   "language": "python",
   "name": "python3"
  },
  "language_info": {
   "codemirror_mode": {
    "name": "ipython",
    "version": 3
   },
   "file_extension": ".py",
   "mimetype": "text/x-python",
   "name": "python",
   "nbconvert_exporter": "python",
   "pygments_lexer": "ipython3",
   "version": "3.11.5"
  }
 },
 "nbformat": 4,
 "nbformat_minor": 2
}
