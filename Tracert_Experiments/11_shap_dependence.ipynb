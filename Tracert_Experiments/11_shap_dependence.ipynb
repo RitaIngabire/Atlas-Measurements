{
 "cells": [
  {
   "cell_type": "code",
   "execution_count": 1,
   "metadata": {},
   "outputs": [],
   "source": [
    "from sklearn.inspection import partial_dependence\n",
    "from sklearn.inspection import PartialDependenceDisplay\n",
    "import os\n",
    "import pandas as pd\n",
    "import numpy as np\n",
    "import shap\n",
    "from sklearn.ensemble import RandomForestRegressor\n",
    "import matplotlib.pyplot as plt\n",
    "\n",
    "# Create a folder for explanations\n",
    "os.makedirs(\"shap_pdp\", exist_ok=True)"
   ]
  },
  {
   "cell_type": "code",
   "execution_count": 2,
   "metadata": {},
   "outputs": [
    {
     "data": {
      "text/plain": [
       "<Figure size 640x480 with 0 Axes>"
      ]
     },
     "metadata": {},
     "output_type": "display_data"
    }
   ],
   "source": [
    "# Set the folder path\n",
    "folder_path = \"train_test_pickles\"\n",
    "\n",
    "# Load the first training pickle\n",
    "train_pickle_path = os.path.join(folder_path, \"train_df_0.pickle\")\n",
    "train_df = pd.read_pickle(train_pickle_path)\n",
    "\n",
    "# Define columns to drop\n",
    "cols_dropped = ['date', 'last_rtt', 'prb_id', 'dst_id', 'normalizzed_rtt', 'src_names', 'distance',\n",
    "                'Latitude_source', 'Longitude_source', 'Latitude_destination', 'Longitude_destination',\n",
    "                'Public_destination', 'Public_source', 'norm_storedtimestamp']\n",
    "\n",
    "# Create feature matrix (X) and target variable (y) for training and testing sets\n",
    "X_train = train_df.drop(columns=cols_dropped, axis=1)\n",
    "y_train = train_df['normalizzed_rtt']\n",
    "\n",
    "# Initialize the RandomForestRegressor\n",
    "rand_forest = RandomForestRegressor(\n",
    "    n_estimators=10,\n",
    "    criterion='squared_error',\n",
    "    random_state=42,\n",
    ")\n",
    "\n",
    "# Train the random forest on the training data\n",
    "rand_forest.fit(X_train, y_train)\n",
    "\n",
    "# Calculate SHAP values using the first 10,000 samples from the training data\n",
    "explainer_shap = shap.Explainer(rand_forest)\n",
    "shap_values = explainer_shap(X_train[:100000])\n",
    "\n",
    "# Define a list of feature names\n",
    "feature_names = X_train.columns.tolist()\n",
    "\n",
    "# Select the top 6 features based on average absolute SHAP values\n",
    "top_features_idx = np.abs(shap_values.values).mean(axis=0).argsort()[-10:]\n",
    "\n",
    "# Create and save scatter plots for the top 6 features\n",
    "for feature_idx in top_features_idx:\n",
    "    # Get SHAP values for the selected feature\n",
    "    shap_feature_values = shap_values.values[:100000, feature_idx]\n",
    "\n",
    "    # Plot the scatter plot for partial dependence using SHAP values\n",
    "    plt.scatter(X_train.iloc[:100000, feature_idx], shap_feature_values, alpha=0.5)\n",
    "    column_name = X_train.columns[feature_idx]\n",
    "    plt.xlabel(f\"{column_name}\")\n",
    "    plt.ylabel(\"SHAP Values\")\n",
    "    \n",
    "    # Save the scatter plot in the 'pdp_plots' folder\n",
    "    plt.savefig(f\"pdp_plots/shap_scatter_plot_feature_{feature_idx}.png\")\n",
    "    plt.clf()\n",
    "    plt.clf()"
   ]
  }
 ],
 "metadata": {
  "kernelspec": {
   "display_name": "Python 3",
   "language": "python",
   "name": "python3"
  },
  "language_info": {
   "codemirror_mode": {
    "name": "ipython",
    "version": 3
   },
   "file_extension": ".py",
   "mimetype": "text/x-python",
   "name": "python",
   "nbconvert_exporter": "python",
   "pygments_lexer": "ipython3",
   "version": "3.10.11"
  }
 },
 "nbformat": 4,
 "nbformat_minor": 2
}
