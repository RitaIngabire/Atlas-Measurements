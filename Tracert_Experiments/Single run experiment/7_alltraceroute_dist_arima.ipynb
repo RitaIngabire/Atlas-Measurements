{
 "cells": [
  {
   "cell_type": "code",
   "execution_count": 1,
   "metadata": {},
   "outputs": [],
   "source": [
    "# https://stackoverflow.com/questions/21321670/how-to-change-fonts-in-matplotlib-python\n",
    "# https://towardsdatascience.com/ways-to-evaluate-regression-models-77a3ff45ba70\n",
    "# https://www.kaggle.com/pmarcelino/comprehensive-data-exploration-with-python\n",
    "\n",
    "import pandas as pd\n",
    "import numpy  as np\n",
    "import json\n",
    "import matplotlib.pyplot as plt\n",
    "import warnings\n",
    "warnings.filterwarnings(\"ignore\",category=DeprecationWarning)\n",
    "warnings.simplefilter(\"ignore\")\n",
    "hfont = {'fontname':'Monaco'}\n",
    "hfont = {'fontsize':'24'}\n",
    "\n",
    "# Making the plots standard \n",
    "%matplotlib inline\n",
    "plt.rcParams[\"figure.figsize\"] = [16, 5]"
   ]
  },
  {
   "cell_type": "code",
   "execution_count": 2,
   "metadata": {},
   "outputs": [],
   "source": [
    "#import the training and test pickles \n",
    "train_df = pd.read_pickle('train_df.pickle')\n",
    "test_df = pd.read_pickle('test_df.pickle')\n",
    "\n",
    "#get the training std \n",
    "trainrtt_mean = train_df['last_rtt'].mean()\n",
    "trainrtt_std = train_df['last_rtt'].std()"
   ]
  },
  {
   "cell_type": "code",
   "execution_count": 3,
   "metadata": {},
   "outputs": [
    {
     "name": "stdout",
     "output_type": "stream",
     "text": [
      "16.864126474595782 9.342051656026516\n"
     ]
    }
   ],
   "source": [
    "print(trainrtt_mean,trainrtt_std)"
   ]
  },
  {
   "cell_type": "code",
   "execution_count": 4,
   "metadata": {},
   "outputs": [],
   "source": [
    "# Choose your features and target\n",
    "X_train = train_df['normalizzed_distance'].values.reshape(-1,1)\n",
    "y_train = train_df['normalizzed_rtt'].values\n",
    "        \n",
    "X_test = test_df['normalizzed_distance'].values.reshape(-1,1)\n",
    "y_test = test_df['normalizzed_rtt'].values\n",
    "\n"
   ]
  },
  {
   "cell_type": "code",
   "execution_count": 6,
   "metadata": {},
   "outputs": [
    {
     "name": "stdout",
     "output_type": "stream",
     "text": [
      "Performing stepwise search to minimize aic\n",
      " ARIMA(2,0,2)(0,0,0)[0] intercept   : AIC=-1512583.286, Time=29.70 sec\n",
      " ARIMA(0,0,0)(0,0,0)[0] intercept   : AIC=2207017.157, Time=4.77 sec\n",
      " ARIMA(1,0,0)(0,0,0)[0] intercept   : AIC=inf, Time=14.84 sec\n",
      " ARIMA(0,0,1)(0,0,0)[0] intercept   : AIC=1217492.557, Time=67.40 sec\n",
      " ARIMA(0,0,0)(0,0,0)[0]             : AIC=2207015.157, Time=2.45 sec\n",
      " ARIMA(1,0,2)(0,0,0)[0] intercept   : AIC=-1512586.126, Time=25.75 sec\n",
      " ARIMA(0,0,2)(0,0,0)[0] intercept   : AIC=496875.858, Time=198.87 sec\n",
      " ARIMA(1,0,1)(0,0,0)[0] intercept   : AIC=-1512585.764, Time=19.94 sec\n",
      " ARIMA(1,0,3)(0,0,0)[0] intercept   : AIC=-1512587.456, Time=79.52 sec\n",
      " ARIMA(0,0,3)(0,0,0)[0] intercept   : AIC=27563.201, Time=218.16 sec\n",
      " ARIMA(2,0,3)(0,0,0)[0] intercept   : AIC=-1512585.006, Time=62.45 sec\n",
      " ARIMA(1,0,4)(0,0,0)[0] intercept   : AIC=-1512585.046, Time=105.40 sec\n",
      " ARIMA(0,0,4)(0,0,0)[0] intercept   : AIC=-325387.093, Time=261.10 sec\n",
      " ARIMA(2,0,4)(0,0,0)[0] intercept   : AIC=-1513794.378, Time=483.31 sec\n",
      " ARIMA(3,0,4)(0,0,0)[0] intercept   : AIC=-1514652.312, Time=536.92 sec\n",
      " ARIMA(3,0,3)(0,0,0)[0] intercept   : AIC=-1513604.750, Time=320.60 sec\n",
      " ARIMA(4,0,4)(0,0,0)[0] intercept   : AIC=-1516258.970, Time=599.80 sec\n",
      " ARIMA(4,0,3)(0,0,0)[0] intercept   : AIC=-1515975.088, Time=508.19 sec\n",
      " ARIMA(5,0,4)(0,0,0)[0] intercept   : AIC=-1517132.277, Time=566.61 sec\n",
      " ARIMA(5,0,3)(0,0,0)[0] intercept   : AIC=-1516568.771, Time=575.09 sec\n",
      " ARIMA(5,0,5)(0,0,0)[0] intercept   : AIC=-1536263.633, Time=630.00 sec\n",
      " ARIMA(4,0,5)(0,0,0)[0] intercept   : AIC=-1534328.739, Time=577.44 sec\n",
      " ARIMA(5,0,5)(0,0,0)[0]             : AIC=-1549523.214, Time=264.92 sec\n",
      " ARIMA(4,0,5)(0,0,0)[0]             : AIC=inf, Time=269.47 sec\n",
      " ARIMA(5,0,4)(0,0,0)[0]             : AIC=-1518208.893, Time=249.12 sec\n",
      " ARIMA(4,0,4)(0,0,0)[0]             : AIC=-1516250.360, Time=227.11 sec\n",
      "\n",
      "Best model:  ARIMA(5,0,5)(0,0,0)[0]          \n",
      "Total fit time: 6909.382 seconds\n"
     ]
    },
    {
     "data": {
      "text/html": [
       "<table class=\"simpletable\">\n",
       "<caption>SARIMAX Results</caption>\n",
       "<tr>\n",
       "  <th>Dep. Variable:</th>           <td>y</td>        <th>  No. Observations:  </th>    <td>777699</td>   \n",
       "</tr>\n",
       "<tr>\n",
       "  <th>Model:</th>           <td>SARIMAX(5, 0, 5)</td> <th>  Log Likelihood     </th>  <td>774772.607</td> \n",
       "</tr>\n",
       "<tr>\n",
       "  <th>Date:</th>            <td>Mon, 29 Jan 2024</td> <th>  AIC                </th> <td>-1549523.214</td>\n",
       "</tr>\n",
       "<tr>\n",
       "  <th>Time:</th>                <td>15:22:09</td>     <th>  BIC                </th> <td>-1549396.009</td>\n",
       "</tr>\n",
       "<tr>\n",
       "  <th>Sample:</th>                  <td>0</td>        <th>  HQIC               </th> <td>-1549487.851</td>\n",
       "</tr>\n",
       "<tr>\n",
       "  <th></th>                     <td> - 777699</td>    <th>                     </th>       <td> </td>     \n",
       "</tr>\n",
       "<tr>\n",
       "  <th>Covariance Type:</th>        <td>opg</td>       <th>                     </th>       <td> </td>     \n",
       "</tr>\n",
       "</table>\n",
       "<table class=\"simpletable\">\n",
       "<tr>\n",
       "     <td></td>       <th>coef</th>     <th>std err</th>      <th>z</th>      <th>P>|z|</th>  <th>[0.025</th>    <th>0.975]</th>  \n",
       "</tr>\n",
       "<tr>\n",
       "  <th>ar.L1</th>  <td>    0.7966</td> <td>    0.005</td> <td>  158.225</td> <td> 0.000</td> <td>    0.787</td> <td>    0.806</td>\n",
       "</tr>\n",
       "<tr>\n",
       "  <th>ar.L2</th>  <td>    0.1838</td> <td>    0.005</td> <td>   40.038</td> <td> 0.000</td> <td>    0.175</td> <td>    0.193</td>\n",
       "</tr>\n",
       "<tr>\n",
       "  <th>ar.L3</th>  <td>    0.6200</td> <td>    0.002</td> <td>  310.790</td> <td> 0.000</td> <td>    0.616</td> <td>    0.624</td>\n",
       "</tr>\n",
       "<tr>\n",
       "  <th>ar.L4</th>  <td>   -0.4528</td> <td>    0.006</td> <td>  -81.275</td> <td> 0.000</td> <td>   -0.464</td> <td>   -0.442</td>\n",
       "</tr>\n",
       "<tr>\n",
       "  <th>ar.L5</th>  <td>   -0.1482</td> <td>    0.005</td> <td>  -30.436</td> <td> 0.000</td> <td>   -0.158</td> <td>   -0.139</td>\n",
       "</tr>\n",
       "<tr>\n",
       "  <th>ma.L1</th>  <td>    0.1515</td> <td>    0.005</td> <td>   30.917</td> <td> 0.000</td> <td>    0.142</td> <td>    0.161</td>\n",
       "</tr>\n",
       "<tr>\n",
       "  <th>ma.L2</th>  <td>   -0.0495</td> <td>    0.002</td> <td>  -28.434</td> <td> 0.000</td> <td>   -0.053</td> <td>   -0.046</td>\n",
       "</tr>\n",
       "<tr>\n",
       "  <th>ma.L3</th>  <td>   -0.6885</td> <td>    0.001</td> <td> -604.599</td> <td> 0.000</td> <td>   -0.691</td> <td>   -0.686</td>\n",
       "</tr>\n",
       "<tr>\n",
       "  <th>ma.L4</th>  <td>   -0.2170</td> <td>    0.005</td> <td>  -41.638</td> <td> 0.000</td> <td>   -0.227</td> <td>   -0.207</td>\n",
       "</tr>\n",
       "<tr>\n",
       "  <th>ma.L5</th>  <td>   -0.1054</td> <td>    0.001</td> <td> -204.794</td> <td> 0.000</td> <td>   -0.106</td> <td>   -0.104</td>\n",
       "</tr>\n",
       "<tr>\n",
       "  <th>sigma2</th> <td>    0.0080</td> <td> 6.81e-07</td> <td> 1.17e+04</td> <td> 0.000</td> <td>    0.008</td> <td>    0.008</td>\n",
       "</tr>\n",
       "</table>\n",
       "<table class=\"simpletable\">\n",
       "<tr>\n",
       "  <th>Ljung-Box (L1) (Q):</th>     <td>56.78</td> <th>  Jarque-Bera (JB):  </th> <td>39975454603.82</td>\n",
       "</tr>\n",
       "<tr>\n",
       "  <th>Prob(Q):</th>                <td>0.00</td>  <th>  Prob(JB):          </th>      <td>0.00</td>     \n",
       "</tr>\n",
       "<tr>\n",
       "  <th>Heteroskedasticity (H):</th> <td>1.03</td>  <th>  Skew:              </th>      <td>3.83</td>     \n",
       "</tr>\n",
       "<tr>\n",
       "  <th>Prob(H) (two-sided):</th>    <td>0.00</td>  <th>  Kurtosis:          </th>     <td>1113.67</td>   \n",
       "</tr>\n",
       "</table><br/><br/>Warnings:<br/>[1] Covariance matrix calculated using the outer product of gradients (complex-step)."
      ],
      "text/latex": [
       "\\begin{center}\n",
       "\\begin{tabular}{lclc}\n",
       "\\toprule\n",
       "\\textbf{Dep. Variable:}          &        y         & \\textbf{  No. Observations:  } &     777699      \\\\\n",
       "\\textbf{Model:}                  & SARIMAX(5, 0, 5) & \\textbf{  Log Likelihood     } &   774772.607    \\\\\n",
       "\\textbf{Date:}                   & Mon, 29 Jan 2024 & \\textbf{  AIC                } &  -1549523.214   \\\\\n",
       "\\textbf{Time:}                   &     15:22:09     & \\textbf{  BIC                } &  -1549396.009   \\\\\n",
       "\\textbf{Sample:}                 &        0         & \\textbf{  HQIC               } &  -1549487.851   \\\\\n",
       "\\textbf{}                        &     - 777699     & \\textbf{                     } &                 \\\\\n",
       "\\textbf{Covariance Type:}        &       opg        & \\textbf{                     } &                 \\\\\n",
       "\\bottomrule\n",
       "\\end{tabular}\n",
       "\\begin{tabular}{lcccccc}\n",
       "                & \\textbf{coef} & \\textbf{std err} & \\textbf{z} & \\textbf{P$> |$z$|$} & \\textbf{[0.025} & \\textbf{0.975]}  \\\\\n",
       "\\midrule\n",
       "\\textbf{ar.L1}  &       0.7966  &        0.005     &   158.225  &         0.000        &        0.787    &        0.806     \\\\\n",
       "\\textbf{ar.L2}  &       0.1838  &        0.005     &    40.038  &         0.000        &        0.175    &        0.193     \\\\\n",
       "\\textbf{ar.L3}  &       0.6200  &        0.002     &   310.790  &         0.000        &        0.616    &        0.624     \\\\\n",
       "\\textbf{ar.L4}  &      -0.4528  &        0.006     &   -81.275  &         0.000        &       -0.464    &       -0.442     \\\\\n",
       "\\textbf{ar.L5}  &      -0.1482  &        0.005     &   -30.436  &         0.000        &       -0.158    &       -0.139     \\\\\n",
       "\\textbf{ma.L1}  &       0.1515  &        0.005     &    30.917  &         0.000        &        0.142    &        0.161     \\\\\n",
       "\\textbf{ma.L2}  &      -0.0495  &        0.002     &   -28.434  &         0.000        &       -0.053    &       -0.046     \\\\\n",
       "\\textbf{ma.L3}  &      -0.6885  &        0.001     &  -604.599  &         0.000        &       -0.691    &       -0.686     \\\\\n",
       "\\textbf{ma.L4}  &      -0.2170  &        0.005     &   -41.638  &         0.000        &       -0.227    &       -0.207     \\\\\n",
       "\\textbf{ma.L5}  &      -0.1054  &        0.001     &  -204.794  &         0.000        &       -0.106    &       -0.104     \\\\\n",
       "\\textbf{sigma2} &       0.0080  &     6.81e-07     &  1.17e+04  &         0.000        &        0.008    &        0.008     \\\\\n",
       "\\bottomrule\n",
       "\\end{tabular}\n",
       "\\begin{tabular}{lclc}\n",
       "\\textbf{Ljung-Box (L1) (Q):}     & 56.78 & \\textbf{  Jarque-Bera (JB):  } & 39975454603.82  \\\\\n",
       "\\textbf{Prob(Q):}                &  0.00 & \\textbf{  Prob(JB):          } &      0.00       \\\\\n",
       "\\textbf{Heteroskedasticity (H):} &  1.03 & \\textbf{  Skew:              } &      3.83       \\\\\n",
       "\\textbf{Prob(H) (two-sided):}    &  0.00 & \\textbf{  Kurtosis:          } &    1113.67      \\\\\n",
       "\\bottomrule\n",
       "\\end{tabular}\n",
       "%\\caption{SARIMAX Results}\n",
       "\\end{center}\n",
       "\n",
       "Warnings: \\newline\n",
       " [1] Covariance matrix calculated using the outer product of gradients (complex-step)."
      ],
      "text/plain": [
       "<class 'statsmodels.iolib.summary.Summary'>\n",
       "\"\"\"\n",
       "                               SARIMAX Results                                \n",
       "==============================================================================\n",
       "Dep. Variable:                      y   No. Observations:               777699\n",
       "Model:               SARIMAX(5, 0, 5)   Log Likelihood              774772.607\n",
       "Date:                Mon, 29 Jan 2024   AIC                       -1549523.214\n",
       "Time:                        15:22:09   BIC                       -1549396.009\n",
       "Sample:                             0   HQIC                      -1549487.851\n",
       "                             - 777699                                         \n",
       "Covariance Type:                  opg                                         \n",
       "==============================================================================\n",
       "                 coef    std err          z      P>|z|      [0.025      0.975]\n",
       "------------------------------------------------------------------------------\n",
       "ar.L1          0.7966      0.005    158.225      0.000       0.787       0.806\n",
       "ar.L2          0.1838      0.005     40.038      0.000       0.175       0.193\n",
       "ar.L3          0.6200      0.002    310.790      0.000       0.616       0.624\n",
       "ar.L4         -0.4528      0.006    -81.275      0.000      -0.464      -0.442\n",
       "ar.L5         -0.1482      0.005    -30.436      0.000      -0.158      -0.139\n",
       "ma.L1          0.1515      0.005     30.917      0.000       0.142       0.161\n",
       "ma.L2         -0.0495      0.002    -28.434      0.000      -0.053      -0.046\n",
       "ma.L3         -0.6885      0.001   -604.599      0.000      -0.691      -0.686\n",
       "ma.L4         -0.2170      0.005    -41.638      0.000      -0.227      -0.207\n",
       "ma.L5         -0.1054      0.001   -204.794      0.000      -0.106      -0.104\n",
       "sigma2         0.0080   6.81e-07   1.17e+04      0.000       0.008       0.008\n",
       "===================================================================================\n",
       "Ljung-Box (L1) (Q):                  56.78   Jarque-Bera (JB):       39975454603.82\n",
       "Prob(Q):                              0.00   Prob(JB):                         0.00\n",
       "Heteroskedasticity (H):               1.03   Skew:                             3.83\n",
       "Prob(H) (two-sided):                  0.00   Kurtosis:                      1113.67\n",
       "===================================================================================\n",
       "\n",
       "Warnings:\n",
       "[1] Covariance matrix calculated using the outer product of gradients (complex-step).\n",
       "\"\"\""
      ]
     },
     "execution_count": 6,
     "metadata": {},
     "output_type": "execute_result"
    }
   ],
   "source": [
    "#Importing the module\n",
    "import pmdarima as pm\n",
    "\n",
    "#first model \n",
    "arima_model = pm.auto_arima(y_train,test=\"adf\",trace=True,error_action='ignore',supress_warnings = True)\n",
    "\n",
    "#Summary of the model\n",
    "arima_model.summary()"
   ]
  },
  {
   "cell_type": "code",
   "execution_count": 7,
   "metadata": {},
   "outputs": [
    {
     "name": "stderr",
     "output_type": "stream",
     "text": [
      "/opt/homebrew/lib/python3.10/site-packages/statsmodels/base/model.py:607: ConvergenceWarning: Maximum Likelihood optimization failed to converge. Check mle_retvals\n",
      "  warnings.warn(\"Maximum Likelihood optimization failed to \"\n"
     ]
    }
   ],
   "source": [
    "import statsmodels.api as sm\n",
    "\n",
    "# Get the best order\n",
    "order = arima_model.order\n",
    "model = sm.tsa.ARIMA(y_test, order=order)\n",
    "arima_model = model.fit()\n",
    "\n",
    "# Make predictions on the test set\n",
    "arima_predictions = arima_model.fittedvalues"
   ]
  },
  {
   "cell_type": "code",
   "execution_count": 8,
   "metadata": {},
   "outputs": [
    {
     "name": "stdout",
     "output_type": "stream",
     "text": [
      "Root Mean Squared Error and denormalised rmse: (0.08935129185566222, 0.8347243840482979)\n"
     ]
    }
   ],
   "source": [
    "# calculate the mean squared error and standard deviation\n",
    "from sklearn.metrics import mean_squared_error\n",
    "rmse_arima =  np.sqrt(mean_squared_error(arima_predictions,y_test))\n",
    "drmse_arima = rmse_arima * trainrtt_std\n",
    "print(f\"Root Mean Squared Error and denormalised rmse: {rmse_arima,drmse_arima}\")"
   ]
  }
 ],
 "metadata": {
  "kernelspec": {
   "display_name": "Python 3",
   "language": "python",
   "name": "python3"
  },
  "language_info": {
   "codemirror_mode": {
    "name": "ipython",
    "version": 3
   },
   "file_extension": ".py",
   "mimetype": "text/x-python",
   "name": "python",
   "nbconvert_exporter": "python",
   "pygments_lexer": "ipython3",
   "version": "3.10.11"
  }
 },
 "nbformat": 4,
 "nbformat_minor": 2
}
