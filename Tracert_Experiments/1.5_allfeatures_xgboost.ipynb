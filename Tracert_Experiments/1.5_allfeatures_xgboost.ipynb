{
 "cells": [
  {
   "cell_type": "code",
   "execution_count": 1,
   "metadata": {},
   "outputs": [],
   "source": [
    "import os \n",
    "import pandas as pd\n",
    "from sklearn.tree import DecisionTreeRegressor\n",
    "from sklearn.metrics import mean_squared_error\n",
    "import numpy as np \n",
    "\n",
    "from xgboost import XGBRegressor\n",
    "from sklearn.model_selection import GridSearchCV\n",
    "regressor= XGBRegressor()"
   ]
  },
  {
   "cell_type": "code",
   "execution_count": 2,
   "metadata": {},
   "outputs": [],
   "source": [
    "# Initialize an empty DataFrame to store the results\n",
    "results_df = pd.DataFrame(columns=['Iteration', 'RMSE', 'Denormalized_RMSE'])"
   ]
  },
  {
   "cell_type": "code",
   "execution_count": 3,
   "metadata": {},
   "outputs": [
    {
     "name": "stdout",
     "output_type": "stream",
     "text": [
      "Evaluation results saved to: model_results/xgboost_evaluation_results.csv\n"
     ]
    }
   ],
   "source": [
    "# Initialize an empty list to store the results\n",
    "results_list = []\n",
    "\n",
    "for iteration in range(30):\n",
    "    # Load the train and test pickles for the current iteration\n",
    "    train_pickle_path = os.path.join('train_test_pickles', f'train_df_{iteration}.pickle')\n",
    "    test_pickle_path = os.path.join('train_test_pickles', f'test_df_{iteration}.pickle')\n",
    "    \n",
    "    # Load the pickles\n",
    "    train_df = pd.read_pickle(train_pickle_path)\n",
    "    test_df = pd.read_pickle(test_pickle_path)\n",
    "    \n",
    "    #get the training std \n",
    "    trainrtt_mean = train_df['last_rtt'].mean()\n",
    "    trainrtt_std = train_df['last_rtt'].std()\n",
    "    \n",
    "    cols_dropped = ['date','last_rtt','normalizzed_rtt','src_names']\n",
    "\n",
    "    X_train = train_df.drop(columns=cols_dropped, axis=1)\n",
    "    y_train = train_df['normalizzed_rtt']\n",
    "\n",
    "    X_test = test_df.drop(columns=cols_dropped, axis=1)\n",
    "    y_test = test_df['normalizzed_rtt'] \n",
    "    \n",
    "    param_grid = {\"max_depth\":    [4, 5, 6],\n",
    "            \"n_estimators\": [50, 60, 70],\n",
    "            \"learning_rate\": [0.01, 0.015]}\n",
    "\n",
    "    # try out every combination of the above values\n",
    "    grid_search = GridSearchCV(regressor, param_grid).fit(X_train, y_train)\n",
    "\n",
    "    \n",
    "    # Train a Decision Tree model\n",
    "    regressor=XGBRegressor(learning_rate = grid_search.best_params_[\"learning_rate\"],\n",
    "                        n_estimators  = grid_search.best_params_[\"n_estimators\"],\n",
    "                        max_depth     = grid_search.best_params_[\"max_depth\"],\n",
    "                        objective     = 'reg:squarederror')\n",
    "    regressor.fit(X_train, y_train)\n",
    "\n",
    "    # Make predictions on the test set\n",
    "    y_pred = regressor.predict(X_test)\n",
    "\n",
    "    # Calculate evaluation metrics\n",
    "    rmse_lm = np.sqrt(mean_squared_error(y_test, y_pred))\n",
    "    drmse_lm = rmse_lm * trainrtt_std\n",
    "    \n",
    "    # Append the results to the DataFrame\n",
    "    # Append the results to the list\n",
    "    results_list.append({'Iteration': iteration, 'RMSE': rmse_lm, 'Denormalized_RMSE': drmse_lm})\n",
    "\n",
    "\n",
    "# Convert the list of dictionaries to a DataFrame\n",
    "results_df = pd.DataFrame(results_list)\n",
    "\n",
    "# Save the results to a CSV file\n",
    "results_folder = 'model_results'\n",
    "results_csv_path = os.path.join(results_folder, 'xgboost_evaluation_results.csv')\n",
    "results_df.to_csv(results_csv_path, index=False)\n",
    "\n",
    "print('Evaluation results saved to:', results_csv_path)\n"
   ]
  }
 ],
 "metadata": {
  "kernelspec": {
   "display_name": "Python 3",
   "language": "python",
   "name": "python3"
  },
  "language_info": {
   "codemirror_mode": {
    "name": "ipython",
    "version": 3
   },
   "file_extension": ".py",
   "mimetype": "text/x-python",
   "name": "python",
   "nbconvert_exporter": "python",
   "pygments_lexer": "ipython3",
   "version": "3.10.11"
  }
 },
 "nbformat": 4,
 "nbformat_minor": 2
}
