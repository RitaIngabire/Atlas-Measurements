{
 "cells": [
  {
   "cell_type": "code",
   "execution_count": 4,
   "metadata": {},
   "outputs": [],
   "source": [
    "import json\n",
    "import pandas as pd\n",
    "import matplotlib.pyplot as plt\n",
    "import numpy as np\n",
    "pd.options.display.float_format = '{:20,.2f}'.format"
   ]
  },
  {
   "cell_type": "code",
   "execution_count": 5,
   "metadata": {},
   "outputs": [
    {
     "name": "stdout",
     "output_type": "stream",
     "text": [
      "     fw   mver  lts     endtime     dst_name     dst_addr         src_addr  \\\n",
      "0  5040  2.4.1   34  1670942270  52.46.64.63  52.46.64.63    10.18.246.209   \n",
      "1  5080  2.6.2   83  1670942255  52.46.64.63  52.46.64.63    192.168.1.179   \n",
      "2  5030  2.4.0   65  1670942354  52.46.64.63  52.46.64.63   172.24.234.195   \n",
      "3  5040  2.4.1    4  1670942342  52.46.64.63  52.46.64.63      192.168.1.3   \n",
      "4  5040  2.4.1   11  1670942337  52.46.64.63  52.46.64.63  192.168.168.209   \n",
      "5  5080  2.6.2   11  1670942286  52.46.64.63  52.46.64.63     172.31.6.130   \n",
      "\n",
      "  proto  af  size  paris_id  \\\n",
      "0  ICMP   4    48         1   \n",
      "1  ICMP   4    48         1   \n",
      "2  ICMP   4    48         1   \n",
      "3  ICMP   4    48         1   \n",
      "4  ICMP   4    48         1   \n",
      "5  ICMP   4    48         1   \n",
      "\n",
      "                                              result    msm_id   prb_id  \\\n",
      "0  [{'hop': 1, 'result': [{'from': '10.18.246.208...  47800130  1003454   \n",
      "1  [{'hop': 1, 'result': [{'from': '192.168.1.1',...  47800130    54470   \n",
      "2  [{'hop': 1, 'result': [{'from': '172.24.234.1'...  47800130  1002914   \n",
      "3  [{'hop': 1, 'result': [{'from': '192.168.1.1',...  47800130  1004102   \n",
      "4  [{'hop': 1, 'result': [{'from': '192.168.168.1...  47800130  1004200   \n",
      "5  [{'hop': 1, 'result': [{'from': '244.5.0.133',...  47800130  1004991   \n",
      "\n",
      "            timestamp    msm_name            from        type  group_id  \\\n",
      "0 2022-12-13 14:36:13  Traceroute      51.15.99.8  traceroute  47800129   \n",
      "1 2022-12-13 14:36:19  Traceroute  73.231.179.223  traceroute  47800129   \n",
      "2 2022-12-13 14:37:47  Traceroute    38.13.46.116  traceroute  47800129   \n",
      "3 2022-12-13 14:37:49  Traceroute  149.90.236.149  traceroute  47800129   \n",
      "4 2022-12-13 14:37:43  Traceroute    88.24.68.105  traceroute  47800129   \n",
      "5 2022-12-13 14:37:29  Traceroute    18.100.6.236  traceroute  47800129   \n",
      "\n",
      "   stored_timestamp  \n",
      "0        1670942307  \n",
      "1        1670942294  \n",
      "2        1670942409  \n",
      "3        1670942470  \n",
      "4        1670942388  \n",
      "5        1670942400  \n"
     ]
    }
   ],
   "source": [
    "df = pd.read_json(\"/Users/ritaingabire/Documents/RESTAPIMeasurements/RIPE-Atlas-measurement-47800130.json\")\n",
    "print(df)"
   ]
  }
 ],
 "metadata": {
  "kernelspec": {
   "display_name": "Python 3 (ipykernel)",
   "language": "python",
   "name": "python3"
  },
  "language_info": {
   "codemirror_mode": {
    "name": "ipython",
    "version": 3
   },
   "file_extension": ".py",
   "mimetype": "text/x-python",
   "name": "python",
   "nbconvert_exporter": "python",
   "pygments_lexer": "ipython3",
   "version": "3.11.5"
  },
  "vscode": {
   "interpreter": {
    "hash": "b0fa6594d8f4cbf19f97940f81e996739fb7646882a419484c72d19e05852a7e"
   }
  }
 },
 "nbformat": 4,
 "nbformat_minor": 2
}
