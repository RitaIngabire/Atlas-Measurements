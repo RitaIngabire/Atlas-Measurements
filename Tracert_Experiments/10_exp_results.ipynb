{
 "cells": [
  {
   "cell_type": "code",
   "execution_count": 1,
   "metadata": {},
   "outputs": [],
   "source": [
    "import os\n",
    "import pandas as pd"
   ]
  },
  {
   "cell_type": "code",
   "execution_count": 2,
   "metadata": {},
   "outputs": [],
   "source": [
    "def process_csv(file_path):\n",
    "    df = pd.read_csv(file_path)\n",
    "    mean_rmse = df['RMSE'].mean()\n",
    "    mean_denormalized_rmse = df['Denormalized_RMSE'].mean()\n",
    "    return mean_rmse, mean_denormalized_rmse\n"
   ]
  },
  {
   "cell_type": "code",
   "execution_count": 3,
   "metadata": {},
   "outputs": [],
   "source": [
    "# Get the current script's directory\n",
    "script_directory = os.getcwd()\n",
    "\n",
    "# Specify the folder containing your CSVs (assuming it's in the same directory as the script)\n",
    "folder_path = os.path.join(script_directory, 'model_dist_results')\n",
    "\n",
    "# Specify the output directory\n",
    "output_directory = os.path.join(script_directory, 'output')\n",
    "\n",
    "# Create the output directory if it doesn't exist\n",
    "os.makedirs(output_directory, exist_ok=True)\n",
    "\n",
    "output_csv_path = os.path.join(output_directory, 'dist_summary.csv')\n",
    "\n",
    "results = []\n",
    "\n",
    "for filename in os.listdir(folder_path):\n",
    "    if filename.endswith('.csv'):\n",
    "        file_path = os.path.join(folder_path, filename)\n",
    "        mean_rmse, mean_denormalized_rmse = process_csv(file_path)\n",
    "        results.append({'Filename': filename, 'Mean_RMSE': mean_rmse, 'Mean_Denormalized_RMSE': mean_denormalized_rmse})\n"
   ]
  },
  {
   "cell_type": "code",
   "execution_count": 4,
   "metadata": {},
   "outputs": [],
   "source": [
    "results_df = pd.DataFrame(results)\n",
    "results_df.to_csv(output_csv_path, index=False)"
   ]
  },
  {
   "cell_type": "code",
   "execution_count": 5,
   "metadata": {},
   "outputs": [],
   "source": [
    "# Get the current script's directory\n",
    "script_directory = os.getcwd()\n",
    "\n",
    "# Specify the folder containing your CSVs (assuming it's in the same directory as the script)\n",
    "folder_path = os.path.join(script_directory, 'model_results')\n",
    "\n",
    "# Specify the output directory\n",
    "output_directory = os.path.join(script_directory, 'output')\n",
    "\n",
    "# Create the output directory if it doesn't exist\n",
    "os.makedirs(output_directory, exist_ok=True)\n",
    "\n",
    "output_csv_path = os.path.join(output_directory, 'allfeatures_summary.csv')\n",
    "\n",
    "results = []\n",
    "\n",
    "for filename in os.listdir(folder_path):\n",
    "    if filename.endswith('.csv'):\n",
    "        file_path = os.path.join(folder_path, filename)\n",
    "        mean_rmse, mean_denormalized_rmse = process_csv(file_path)\n",
    "        results.append({'Filename': filename, 'Mean_RMSE': mean_rmse, 'Mean_Denormalized_RMSE': mean_denormalized_rmse})\n"
   ]
  },
  {
   "cell_type": "code",
   "execution_count": 6,
   "metadata": {},
   "outputs": [],
   "source": [
    "results_df = pd.DataFrame(results)\n",
    "results_df.to_csv(output_csv_path, index=False)"
   ]
  }
 ],
 "metadata": {
  "kernelspec": {
   "display_name": "Python 3",
   "language": "python",
   "name": "python3"
  },
  "language_info": {
   "codemirror_mode": {
    "name": "ipython",
    "version": 3
   },
   "file_extension": ".py",
   "mimetype": "text/x-python",
   "name": "python",
   "nbconvert_exporter": "python",
   "pygments_lexer": "ipython3",
   "version": "3.10.11"
  }
 },
 "nbformat": 4,
 "nbformat_minor": 2
}
